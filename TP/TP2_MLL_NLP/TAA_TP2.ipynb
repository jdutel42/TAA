{
 "cells": [
  {
   "cell_type": "markdown",
   "metadata": {},
   "source": [
    "# TP2 : Apprentissage multi-label sur des données textuelles\n",
    "\n",
    "*Jordan Dutel et Ariane Paradan*\n",
    "\n",
    "---\n",
    "---"
   ]
  },
  {
   "cell_type": "markdown",
   "metadata": {},
   "source": [
    "# Partie 1"
   ]
  },
  {
   "cell_type": "markdown",
   "metadata": {},
   "source": [
    "## I. Import des librairies"
   ]
  },
  {
   "cell_type": "code",
   "execution_count": 2,
   "metadata": {},
   "outputs": [
    {
     "data": {
      "text/plain": [
       "<module 'function_TAA' from '/home/jordan/Documents/Etudes/Master_Bio_info/Master_2/Semestre_1/TAA/TP/TP2_MLL_NLP/function_TAA.py'>"
      ]
     },
     "execution_count": 2,
     "metadata": {},
     "output_type": "execute_result"
    }
   ],
   "source": [
    "import importlib\n",
    "import function_TAA as taa\n",
    "importlib.reload(taa)"
   ]
  },
  {
   "cell_type": "markdown",
   "metadata": {},
   "source": [
    "## II. Load data"
   ]
  },
  {
   "cell_type": "code",
   "execution_count": 3,
   "metadata": {},
   "outputs": [
    {
     "name": "stdout",
     "output_type": "stream",
     "text": [
      "                                                   Title  \\\n",
      "0      Expression of p53 and coexistence of HPV in pr...   \n",
      "1      Vitamin D status in pregnant Indian women acro...   \n",
      "2      [Identification of a functionally important di...   \n",
      "3      Multilayer capsules: a promising microencapsul...   \n",
      "4      Nanohydrogel with N,N'-bis(acryloyl)cystine cr...   \n",
      "...                                                  ...   \n",
      "49995  Five donors-one recipient: modeling a mosaic o...   \n",
      "49996  The role of eicosanoids in cyclosporine nephro...   \n",
      "49997  Impact of pancreaticoduodenal arcade dilation ...   \n",
      "49998  Outcomes of Preterm Infants following Discussi...   \n",
      "49999  Molecular subtyping of Borrelia burgdorferi se...   \n",
      "\n",
      "                                            abstractText  \\\n",
      "0      Fifty-four paraffin embedded tissue sections f...   \n",
      "1      The present cross-sectional study was conducte...   \n",
      "2      The occurrence of individual amino acids and d...   \n",
      "3      In 1980, Lim and Sun introduced a microcapsule...   \n",
      "4      Substantially improved hydrogel particles base...   \n",
      "...                                                  ...   \n",
      "49995  BACKGROUND: A 21-year-old man was admitted to ...   \n",
      "49996  Nephrotoxicity is the most troublesome complic...   \n",
      "49997  BACKGROUND: The aim of this study was to inves...   \n",
      "49998  OBJECTIVES: To describe the frequency of postn...   \n",
      "49999  Solitary lymphocytoma is a rare cutaneous mani...   \n",
      "\n",
      "                                               meshMajor      pmid  \\\n",
      "0      ['DNA Probes, HPV', 'DNA, Viral', 'Female', 'H...   8549602   \n",
      "1      ['Adult', 'Alkaline Phosphatase', 'Breast Feed...  21736816   \n",
      "2      ['Amino Acid Sequence', 'Analgesics, Opioid', ...  19060934   \n",
      "3      ['Acrylic Resins', 'Alginates', 'Animals', 'Bi...  11426874   \n",
      "4      ['Antineoplastic Agents', 'Cell Proliferation'...  28323099   \n",
      "...                                                  ...       ...   \n",
      "49995  ['Adult', 'Cell Transplantation', 'Cord Blood ...  18364724   \n",
      "49996  ['Animals', 'Cyclosporins', 'In Vitro Techniqu...   2735953   \n",
      "49997  ['Adult', 'Aged', 'Aged, 80 and over', 'Dilata...  28919282   \n",
      "49998  ['Decision Making', 'Female', 'Humans', 'Infan...  28647272   \n",
      "49999  ['Adult', 'Aged', 'Antigens, Surface', 'Bacter...   8980295   \n",
      "\n",
      "                                                  meshid  \\\n",
      "0      [['D13.444.600.223.555', 'D27.505.259.750.600....   \n",
      "1      [['M01.060.116'], ['D08.811.277.352.650.035'],...   \n",
      "2      [['G02.111.570.060', 'L01.453.245.667.060'], [...   \n",
      "3      [['D05.750.716.822.111', 'D25.720.716.822.111'...   \n",
      "4      [['D27.505.954.248'], ['G04.161.750', 'G07.345...   \n",
      "...                                                  ...   \n",
      "49995  [['M01.060.116'], ['E02.095.147.500', 'E04.936...   \n",
      "49996  [['B01.050'], ['D04.345.566.235', 'D12.644.641...   \n",
      "49997  [['M01.060.116'], ['M01.060.116.100'], ['M01.0...   \n",
      "49998  [['F02.463.785.373'], ['B01.050.150.900.649.31...   \n",
      "49999  [['M01.060.116'], ['M01.060.116.100'], ['D23.0...   \n",
      "\n",
      "                                                meshroot  A  B  C  D  E  F  G  \\\n",
      "0      ['Chemicals and Drugs [D]', 'Organisms [B]', '...  0  1  1  1  1  0  0   \n",
      "1      ['Named Groups [M]', 'Chemicals and Drugs [D]'...  0  1  1  1  1  1  1   \n",
      "2      ['Phenomena and Processes [G]', 'Information S...  1  1  0  1  1  0  1   \n",
      "3      ['Chemicals and Drugs [D]', 'Technology, Indus...  1  1  1  1  1  0  1   \n",
      "4      ['Chemicals and Drugs [D]', 'Phenomena and Pro...  1  1  0  1  1  0  1   \n",
      "...                                                  ... .. .. .. .. .. .. ..   \n",
      "49995  ['Named Groups [M]', 'Analytical, Diagnostic a...  1  1  1  0  1  0  1   \n",
      "49996  ['Organisms [B]', 'Chemicals and Drugs [D]', '...  1  1  0  1  1  0  0   \n",
      "49997  ['Named Groups [M]', 'Diseases [C]', 'Anatomy ...  1  1  1  0  1  0  0   \n",
      "49998  ['Psychiatry and Psychology [F]', 'Organisms [...  0  1  0  0  1  1  0   \n",
      "49999  ['Named Groups [M]', 'Chemicals and Drugs [D]'...  1  1  1  1  1  0  1   \n",
      "\n",
      "       H  I  J  L  M  N  Z  \n",
      "0      1  0  0  0  0  0  0  \n",
      "1      0  1  1  0  1  1  1  \n",
      "2      0  0  0  1  0  0  0  \n",
      "3      0  0  1  0  0  0  0  \n",
      "4      0  0  1  0  0  0  0  \n",
      "...   .. .. .. .. .. .. ..  \n",
      "49995  0  0  0  0  1  0  0  \n",
      "49996  0  0  0  0  0  0  0  \n",
      "49997  0  0  0  0  1  1  0  \n",
      "49998  1  0  0  0  1  1  0  \n",
      "49999  0  0  0  0  1  0  1  \n",
      "\n",
      "[50000 rows x 20 columns]\n"
     ]
    }
   ],
   "source": [
    "df = taa.load_data('PubMed-multi-label-dataset.csv', sep=',')"
   ]
  },
  {
   "cell_type": "markdown",
   "metadata": {},
   "source": [
    "## III. Pre-processing"
   ]
  },
  {
   "cell_type": "markdown",
   "metadata": {},
   "source": [
    "### A. Data infos"
   ]
  },
  {
   "cell_type": "code",
   "execution_count": null,
   "metadata": {},
   "outputs": [],
   "source": [
    "taa.get_info(df)"
   ]
  },
  {
   "cell_type": "markdown",
   "metadata": {},
   "source": [
    "### B. Text cleaning (lowercase, tokenize, stop word...)"
   ]
  },
  {
   "cell_type": "markdown",
   "metadata": {},
   "source": [
    "La fonction est longue à faire tourner (~4 min)"
   ]
  },
  {
   "cell_type": "code",
   "execution_count": 4,
   "metadata": {},
   "outputs": [],
   "source": [
    "df = taa.clean_text(df, text_column='abstractText')"
   ]
  },
  {
   "cell_type": "markdown",
   "metadata": {},
   "source": [
    "### C. Features and labels split"
   ]
  },
  {
   "cell_type": "code",
   "execution_count": 5,
   "metadata": {},
   "outputs": [
    {
     "name": "stdout",
     "output_type": "stream",
     "text": [
      "Les features sont dans le dataframe X (50000 lignes, 6 colonnes).\n",
      "La target est dans le dataframe y (50000 lignes, 14 colonnes).\n"
     ]
    }
   ],
   "source": [
    "target_column = ['A', 'B', 'C', 'D', 'E', 'F', 'G', 'H', 'I', 'J', 'L', 'M', 'N', 'Z']\n",
    "X, y = taa.split_feature_label(df, target_column, multilabel=True)"
   ]
  },
  {
   "cell_type": "markdown",
   "metadata": {},
   "source": [
    "### D. Split train test"
   ]
  },
  {
   "cell_type": "code",
   "execution_count": 6,
   "metadata": {},
   "outputs": [
    {
     "name": "stdout",
     "output_type": "stream",
     "text": [
      "Le dataset a été divisé en training et testing sets avec 50.0% des données dans le testing set.\n",
      "X_train : 25000 lignes, 6 colonnes (features)\n",
      "X_test : 25000 lignes, 6 colonnes (features)\n",
      "y_train : 25000 lignes, 14 colonnes (labels)\n",
      "y_test : 25000 lignes, 14 colonnes (labels)\n"
     ]
    }
   ],
   "source": [
    "X_train, X_test, y_train, y_test = taa.split_train_test(X, y, test_size=0.5, random_state=42)"
   ]
  },
  {
   "cell_type": "code",
   "execution_count": 7,
   "metadata": {},
   "outputs": [
    {
     "name": "stdout",
     "output_type": "stream",
     "text": [
      "Les textes ont été vectorisés en 2000 features.\n",
      "Matrice TF-IDF pour X_train : 25000 lignes, 2000 colonnes (features)\n",
      "Matrice TF-IDF pour X_test : 25000 lignes, 2000 colonnes (features)\n",
      "\n",
      "Feature_names (Vocabulaire) : \n",
      "\n",
      "['aa' 'abdominal' 'ability' 'able' 'abnormal' 'abnormalities' 'absence'\n",
      " 'absolute' 'absorption' 'access' 'accompanied' 'according' 'account'\n",
      " 'accumulation' 'accuracy' 'accurate' 'acetate' 'achieve' 'achieved'\n",
      " 'acid' 'acids' 'acquired' 'acquisition' 'act' 'action' 'actions'\n",
      " 'activated' 'activation' 'active' 'activities' 'activity' 'acute' 'ad'\n",
      " 'adaptation' 'added' 'addition' 'additional' 'additionally' 'address'\n",
      " 'adenosine' 'adequate' 'adherence' 'adhesion' 'adjacent' 'adjusted'\n",
      " 'adjustment' 'administered' 'administration' 'admission' 'admitted'\n",
      " 'adolescents' 'adult' 'adults' 'advanced' 'adverse' 'affect' 'affected'\n",
      " 'affecting' 'affects' 'affinity' 'age' 'aged' 'agent' 'agents' 'ages'\n",
      " 'aging' 'agonist' 'agreement' 'aim' 'aimed' 'aims' 'air' 'airway' 'al'\n",
      " 'albumin' 'alcohol' 'algorithm' 'allele' 'allow' 'allowed' 'allows'\n",
      " 'alpha' 'alter' 'alterations' 'altered' 'alternative' 'american' 'amino'\n",
      " 'amounts' 'amplification' 'amplitude' 'analysed' 'analyses' 'analysis'\n",
      " 'analyze' 'analyzed' 'andor' 'anesthesia' 'angle' 'animal' 'animals'\n",
      " 'antagonist' 'anterior' 'antibiotic' 'antibiotics' 'antibodies'\n",
      " 'antibody' 'antigen' 'antigens' 'antiinflammatory' 'antimicrobial'\n",
      " 'antioxidant' 'anxiety' 'aortic' 'apoptosis' 'apparent' 'appear'\n",
      " 'appearance' 'appeared' 'appears' 'application' 'applications' 'applied'\n",
      " 'approach' 'approaches' 'appropriate' 'approximately' 'aqueous' 'area'\n",
      " 'areas' 'arm' 'arterial' 'arteries' 'artery' 'arthritis' 'article'\n",
      " 'aspects' 'assay' 'assays' 'assess' 'assessed' 'assessing' 'assessment'\n",
      " 'assigned' 'associated' 'association' 'associations' 'asthma' 'atp'\n",
      " 'atrial' 'attention' 'attenuated' 'attributed' 'aureus' 'authors'\n",
      " 'availability' 'available' 'average' 'axis' 'background' 'bacteria'\n",
      " 'bacterial' 'balance' 'barrier' 'basal' 'base' 'based' 'baseline' 'basic'\n",
      " 'basis' 'behavior' 'behavioral' 'behaviors' 'behaviour' 'beneficial'\n",
      " 'benefit' 'benefits' 'benign' 'best' 'beta' 'better' 'bias' 'bilateral'\n",
      " 'bile' 'bind' 'binding' 'binds' 'biochemical' 'biological' 'biopsies'\n",
      " 'biopsy' 'birth' 'bladder' 'bleeding' 'block' 'blocked' 'blood' 'blot'\n",
      " 'bmi' 'body' 'bone' 'bound' 'bovine' 'bowel' 'bp' 'brain' 'breast'\n",
      " 'bypass' 'ca' 'calcium' 'calculated' 'cancer' 'cancers' 'candidate'\n",
      " 'capable' 'capacity' 'carbon' 'carcinoma' 'carcinomas' 'cardiac'\n",
      " 'cardiovascular' 'care' 'carotid' 'carried' 'cartilage' 'case' 'cases'\n",
      " 'catalytic' 'categories' 'catheter' 'cause' 'caused' 'causes' 'causing'\n",
      " 'cc' 'cd' 'cdna' 'cell' 'cells' 'cellular' 'cent' 'center' 'centers'\n",
      " 'central' 'cerebral' 'certain' 'cervical' 'chain' 'challenge' 'change'\n",
      " 'changed' 'changes' 'channel' 'channels' 'characteristic'\n",
      " 'characteristics' 'characterization' 'characterize' 'characterized'\n",
      " 'chemical' 'chemotherapy' 'chest' 'child' 'childhood' 'children' 'china'\n",
      " 'chinese' 'chloride' 'choice' 'cholesterol' 'chromatography' 'chromosome'\n",
      " 'chronic' 'ci' 'circulating' 'cl' 'class' 'classes' 'classification'\n",
      " 'classified' 'clear' 'clearance' 'clearly' 'cleavage' 'clinic' 'clinical'\n",
      " 'clinically' 'close' 'closely' 'cluster' 'cm' 'coding' 'coefficient'\n",
      " 'cognitive' 'cohort' 'coli' 'collagen' 'collected' 'collection' 'colon'\n",
      " 'colorectal' 'column' 'combination' 'combined' 'common' 'commonly'\n",
      " 'communication' 'community' 'comparable' 'comparative' 'compare'\n",
      " 'compared' 'comparing' 'comparison' 'complete' 'completed' 'completely'\n",
      " 'complex' 'complexes' 'complication' 'complications' 'component'\n",
      " 'components' 'composed' 'composite' 'composition' 'compound' 'compounds'\n",
      " 'comprehensive' 'computed' 'concentration' 'concentrations' 'concept'\n",
      " 'concerning' 'conclude' 'concluded' 'conclusion' 'conclusions'\n",
      " 'concomitant' 'condition' 'conditions' 'conducted' 'confidence' 'confirm'\n",
      " 'confirmed' 'congenital' 'consecutive' 'consequences' 'conserved'\n",
      " 'considerable' 'considered' 'consisted' 'consistent' 'consisting'\n",
      " 'constant' 'constructed' 'consumption' 'contact' 'contain' 'contained'\n",
      " 'containing' 'contains' 'content' 'contents' 'context' 'continued'\n",
      " 'continuous' 'contrast' 'contribute' 'contribution' 'control'\n",
      " 'controlled' 'controlling' 'controls' 'conventional' 'conversion' 'cord'\n",
      " 'core' 'corneal' 'coronary' 'correct' 'correlate' 'correlated'\n",
      " 'correlation' 'correlations' 'corresponding' 'cortex' 'cortical' 'cost'\n",
      " 'costs' 'count' 'countries' 'counts' 'coupled' 'course' 'cows' 'cox' 'cr'\n",
      " 'criteria' 'critical' 'crosssectional' 'crucial' 'csf' 'ct' 'culture'\n",
      " 'cultured' 'cultures' 'current' 'currently' 'curve' 'curves' 'cutaneous'\n",
      " 'cycle' 'cycles' 'cyclic' 'cytochrome' 'cytokine' 'cytokines'\n",
      " 'cytoplasmic' 'cytotoxic' 'cytotoxicity' 'daily' 'damage' 'data'\n",
      " 'database' 'date' 'day' 'days' 'death' 'deaths' 'december' 'decision'\n",
      " 'decline' 'decrease' 'decreased' 'decreases' 'decreasing' 'deep' 'defect'\n",
      " 'defects' 'deficiency' 'deficits' 'defined' 'degradation' 'degree'\n",
      " 'degrees' 'dehydrogenase' 'delay' 'delayed' 'deletion' 'delivered'\n",
      " 'delivery' 'dementia' 'demographic' 'demonstrate' 'demonstrated'\n",
      " 'demonstrates' 'density' 'dental' 'department' 'dependence' 'dependent'\n",
      " 'depending' 'depression' 'depressive' 'depth' 'derivatives' 'derived'\n",
      " 'described' 'describes' 'design' 'designed' 'despite' 'detailed' 'detect'\n",
      " 'detectable' 'detected' 'detection' 'determination' 'determine'\n",
      " 'determined' 'determining' 'develop' 'developed' 'developing'\n",
      " 'development' 'developmental' 'device' 'diabetes' 'diabetic' 'diagnosed'\n",
      " 'diagnosis' 'diagnostic' 'dialysis' 'diameter' 'died' 'diet' 'dietary'\n",
      " 'differ' 'differed' 'difference' 'differences' 'different' 'differential'\n",
      " 'differentiation' 'difficult' 'diffusion' 'direct' 'direction' 'directly'\n",
      " 'disability' 'discharge' 'discussed' 'disease' 'diseases' 'disorder'\n",
      " 'disorders' 'displayed' 'distal' 'distance' 'distinct' 'distress'\n",
      " 'distributed' 'distribution' 'diverse' 'diversity' 'divided' 'dna'\n",
      " 'documented' 'dogs' 'domain' 'domains' 'dominant' 'donor' 'donors'\n",
      " 'dopamine' 'dorsal' 'dose' 'dosedependent' 'doses' 'double' 'drinking'\n",
      " 'drug' 'drugs' 'dry' 'duration' 'dynamic' 'dynamics' 'dysfunction'\n",
      " 'earlier' 'early' 'ec' 'ed' 'education' 'effect' 'effective'\n",
      " 'effectively' 'effectiveness' 'effects' 'efficacy' 'efficiency'\n",
      " 'efficient' 'elderly' 'electrical' 'electron' 'element' 'elements'\n",
      " 'elevated' 'elevation' 'elisa' 'embryonic' 'embryos' 'emergency'\n",
      " 'emission' 'employed' 'encoding' 'end' 'endogenous' 'endoscopic'\n",
      " 'endothelial' 'energy' 'enhance' 'enhanced' 'enhancement' 'enrolled'\n",
      " 'entire' 'entry' 'environment' 'environmental' 'enzymatic' 'enzyme'\n",
      " 'enzymes' 'episodes' 'epithelial' 'epithelium' 'equal' 'equivalent' 'er'\n",
      " 'error' 'errors' 'escherichia' 'esophageal' 'especially' 'essential'\n",
      " 'establish' 'established' 'estimate' 'estimated' 'estimates' 'estrogen'\n",
      " 'et' 'ethanol' 'european' 'evaluate' 'evaluated' 'evaluating'\n",
      " 'evaluation' 'event' 'events' 'evidence' 'evident' 'evoked' 'evolution'\n",
      " 'examination' 'examinations' 'examine' 'examined' 'example' 'excellent'\n",
      " 'excess' 'exchange' 'excretion' 'exercise' 'exhibit' 'exhibited'\n",
      " 'existing' 'expected' 'experience' 'experienced' 'experiences'\n",
      " 'experiment' 'experimental' 'experiments' 'explain' 'explained' 'explore'\n",
      " 'explored' 'exposed' 'exposure' 'express' 'expressed' 'expressing'\n",
      " 'expression' 'extended' 'extensive' 'extent' 'external' 'extracellular'\n",
      " 'extract' 'extracted' 'extraction' 'extracts' 'extremely' 'eye' 'eyes'\n",
      " 'facilitate' 'fact' 'factor' 'factors' 'failed' 'failure' 'families'\n",
      " 'family' 'far' 'fast' 'fasting' 'fat' 'fatty' 'feasibility' 'features'\n",
      " 'fed' 'feeding' 'female' 'females' 'femoral' 'fetal' 'fever' 'fewer'\n",
      " 'fiber' 'fibers' 'fibroblasts' 'fibrosis' 'field' 'final' 'finally'\n",
      " 'finding' 'findings' 'fish' 'fixation' 'fixed' 'flow' 'fluid'\n",
      " 'fluorescence' 'fluorescent' 'focus' 'focused' 'fold' 'followed'\n",
      " 'following' 'followup' 'food' 'force' 'form' 'formation' 'formed' 'forms'\n",
      " 'fraction' 'fractions' 'fracture' 'fractures' 'fragment' 'fragments'\n",
      " 'framework' 'free' 'frequencies' 'frequency' 'frequent' 'frequently'\n",
      " 'fully' 'function' 'functional' 'functioning' 'functions' 'furthermore'\n",
      " 'fusion' 'future' 'gain' 'gamma' 'gas' 'gastric' 'gastrointestinal' 'gel'\n",
      " 'gender' 'gene' 'general' 'generally' 'generate' 'generated' 'generation'\n",
      " 'genes' 'genetic' 'genome' 'genomic' 'genotype' 'genotypes' 'gestational'\n",
      " 'given' 'gland' 'global' 'glucose' 'glutamate' 'goal' 'good' 'grade'\n",
      " 'gradient' 'graft' 'grafts' 'great' 'greater' 'greatly' 'group' 'groups'\n",
      " 'growing' 'growth' 'guidelines' 'half' 'hand' 'hazard' 'hcv' 'head'\n",
      " 'healing' 'health' 'healthcare' 'healthy' 'hearing' 'heart' 'heat'\n",
      " 'height' 'help' 'hemorrhage' 'hepatic' 'hepatitis' 'hg' 'high' 'higher'\n",
      " 'highest' 'highly' 'highrisk' 'hip' 'histological' 'history' 'hiv' 'ho'\n",
      " 'home' 'hormone' 'hospital' 'hospitals' 'host' 'hour' 'hours' 'hr' 'ht'\n",
      " 'human' 'humans' 'hybridization' 'hydrogen' 'hypertension' 'hypothesis'\n",
      " 'hypothesized' 'hypoxia' 'ic' 'identical' 'identification' 'identified'\n",
      " 'identify' 'identifying' 'igg' 'ii' 'iii' 'il' 'illness' 'image' 'images'\n",
      " 'imaging' 'immediate' 'immediately' 'immune' 'immunohistochemistry'\n",
      " 'impact' 'impaired' 'impairment' 'implant' 'implantation' 'implants'\n",
      " 'implementation' 'implicated' 'implications' 'importance' 'important'\n",
      " 'improve' 'improved' 'improvement' 'improving' 'inactivation' 'incidence'\n",
      " 'include' 'included' 'includes' 'including' 'inclusion' 'incorporation'\n",
      " 'increase' 'increased' 'increases' 'increasing' 'incubation'\n",
      " 'independent' 'independently' 'index' 'indicate' 'indicated' 'indicates'\n",
      " 'indicating' 'indices' 'individual' 'individuals' 'induce' 'induced'\n",
      " 'induces' 'induction' 'infant' 'infants' 'infarction' 'infected'\n",
      " 'infection' 'infections' 'infectious' 'inflammation' 'inflammatory'\n",
      " 'influence' 'influenced' 'influences' 'influenza' 'information'\n",
      " 'infusion' 'inhibit' 'inhibited' 'inhibition' 'inhibitor' 'inhibitors'\n",
      " 'inhibitory' 'inhibits' 'initial' 'initially' 'initiation' 'injected'\n",
      " 'injection' 'injections' 'injuries' 'injury' 'insulin' 'intact' 'intake'\n",
      " 'integrated' 'intensity' 'intensive' 'interaction' 'interactions'\n",
      " 'interestingly' 'interleukin' 'intermediate' 'internal' 'international'\n",
      " 'interval' 'intervals' 'intervention' 'interventions' 'interviews'\n",
      " 'intestinal' 'intracellular' 'intravenous' 'introduced' 'introduction'\n",
      " 'invasion' 'invasive' 'investigate' 'investigated' 'investigation'\n",
      " 'investigations' 'involved' 'involvement' 'involves' 'involving' 'ion'\n",
      " 'ions' 'ip' 'ir' 'iron' 'irradiation' 'ischemia' 'ischemic' 'isolated'\n",
      " 'isolates' 'isolation' 'issues' 'iv' 'january' 'joint' 'kda' 'key' 'kg'\n",
      " 'kidney' 'kinase' 'kinetic' 'kinetics' 'knee' 'knowledge' 'known'\n",
      " 'laboratory' 'lack' 'lactate' 'laparoscopic' 'large' 'largely' 'larger'\n",
      " 'laser' 'late' 'later' 'lateral' 'layer' 'lead' 'leading' 'leads'\n",
      " 'learning' 'led' 'left' 'length' 'lesion' 'lesions' 'leukemia' 'level'\n",
      " 'levels' 'life' 'ligand' 'light' 'like' 'likely' 'limb' 'limit' 'limited'\n",
      " 'limits' 'line' 'linear' 'lines' 'linked' 'lipid' 'lipoprotein' 'liquid'\n",
      " 'literature' 'little' 'live' 'liver' 'living' 'load' 'loading' 'local'\n",
      " 'localization' 'localized' 'located' 'location' 'locus' 'logistic' 'long'\n",
      " 'longer' 'longitudinal' 'longterm' 'loss' 'low' 'lower' 'lowest' 'lps'\n",
      " 'lumbar' 'lung' 'lv' 'lymph' 'lymphocytes' 'lymphoma' 'macrophages'\n",
      " 'magnetic' 'magnitude' 'main' 'mainly' 'maintained' 'maintenance' 'major'\n",
      " 'majority' 'make' 'making' 'male' 'males' 'malignant' 'mammalian'\n",
      " 'management' 'manner' 'map' 'marked' 'markedly' 'marker' 'markers'\n",
      " 'marrow' 'mass' 'matched' 'material' 'materials' 'maternal' 'matrix'\n",
      " 'matter' 'mature' 'maximal' 'maximum' 'mean' 'means' 'measure' 'measured'\n",
      " 'measurement' 'measurements' 'measures' 'measuring' 'mechanical'\n",
      " 'mechanism' 'mechanisms' 'media' 'medial' 'median' 'mediated' 'medical'\n",
      " 'medication' 'medicine' 'medium' 'melanoma' 'members' 'membrane'\n",
      " 'membranes' 'memory' 'men' 'mental' 'met' 'metabolic' 'metabolism'\n",
      " 'metabolites' 'metal' 'metastases' 'metastasis' 'metastatic' 'method'\n",
      " 'methods' 'methylation' 'mg' 'mgkg' 'mice' 'microm' 'microscopy' 'middle'\n",
      " 'migration' 'mild' 'milk' 'min' 'minimal' 'minimum' 'minor' 'minutes'\n",
      " 'mir' 'mitochondria' 'mitochondrial' 'mixed' 'mixture' 'ml' 'mm' 'mmhg'\n",
      " 'mmp' 'mode' 'model' 'modeling' 'models' 'moderate' 'modification'\n",
      " 'modified' 'modulation' 'molecular' 'molecule' 'molecules' 'monitored'\n",
      " 'monitoring' 'monoclonal' 'month' 'months' 'morbidity' 'morphological'\n",
      " 'morphology' 'mortality' 'mothers' 'motion' 'motor' 'mouse' 'movement'\n",
      " 'mr' 'mri' 'mrna' 'ms' 'mucosa' 'mucosal' 'multiple' 'multivariate'\n",
      " 'murine' 'muscle' 'muscles' 'mutant' 'mutants' 'mutation' 'mutations'\n",
      " 'myocardial' 'na' 'nanoparticles' 'nasal' 'national' 'native' 'natural'\n",
      " 'nature' 'near' 'nearly' 'necessary' 'neck' 'necrosis' 'need' 'needed'\n",
      " 'needs' 'negative' 'negatively' 'neonatal' 'nerve' 'nervous' 'network'\n",
      " 'neural' 'neurological' 'neuronal' 'neurons' 'new' 'newly' 'ngml'\n",
      " 'nitric' 'nitrogen' 'nm' 'nmr' 'node' 'noise' 'normal' 'noted' 'novel'\n",
      " 'nterminal' 'nuclear' 'nuclei' 'nucleotide' 'nucleus' 'number' 'numbers'\n",
      " 'numerous' 'nurses' 'nursing' 'nutritional' 'obese' 'obesity' 'objective'\n",
      " 'objectives' 'observation' 'observations' 'observed' 'obstruction'\n",
      " 'obtain' 'obtained' 'occlusion' 'occur' 'occurred' 'occurrence'\n",
      " 'occurring' 'occurs' 'odds' 'oil' 'old' 'older' 'onset' 'open'\n",
      " 'operating' 'operation' 'operative' 'optical' 'optimal' 'oral' 'order'\n",
      " 'organ' 'organic' 'organisms' 'organization' 'organs' 'origin' 'original'\n",
      " 'outcome' 'outcomes' 'output' 'ovarian' 'overall' 'overexpression'\n",
      " 'oxidation' 'oxidative' 'oxide' 'oxygen' 'pa' 'pain' 'pairs' 'pancreatic'\n",
      " 'paper' 'parallel' 'parameters' 'parents' 'partial' 'partially'\n",
      " 'participants' 'participation' 'particles' 'particular' 'particularly'\n",
      " 'past' 'pathogenesis' 'pathological' 'pathology' 'pathway' 'pathways'\n",
      " 'patient' 'patients' 'pattern' 'patterns' 'pc' 'pcr' 'pd' 'peak'\n",
      " 'pediatric' 'people' 'peptide' 'peptides' 'perceived' 'percent'\n",
      " 'percentage' 'perform' 'performance' 'performed' 'perfusion' 'period'\n",
      " 'periods' 'peripheral' 'permeability' 'persistent' 'personal' 'persons'\n",
      " 'ph' 'pharmacological' 'phase' 'phenomenon' 'phenotype' 'phenotypes'\n",
      " 'phosphatase' 'phosphate' 'phosphorylation' 'phylogenetic' 'physical'\n",
      " 'physicians' 'physiological' 'pi' 'pigs' 'place' 'placebo' 'placed'\n",
      " 'planning' 'plant' 'plants' 'plasma' 'plasmid' 'platelet' 'platelets'\n",
      " 'play' 'plays' 'plus' 'point' 'points' 'polymerase' 'polymorphism'\n",
      " 'polymorphisms' 'poor' 'poorly' 'population' 'populations' 'position'\n",
      " 'positions' 'positive' 'positively' 'possibility' 'possible' 'possibly'\n",
      " 'posterior' 'postoperative' 'potent' 'potential' 'potentially'\n",
      " 'potentials' 'power' 'pr' 'practical' 'practice' 'practices' 'predict'\n",
      " 'predicted' 'prediction' 'predictive' 'predictor' 'predictors'\n",
      " 'predominantly' 'pregnancy' 'pregnant' 'preoperative' 'preparation'\n",
      " 'preparations' 'prepared' 'presence' 'present' 'presentation' 'presented'\n",
      " 'presenting' 'presents' 'pressure' 'pretreatment' 'prevalence' 'prevent'\n",
      " 'prevented' 'prevention' 'previous' 'previously' 'primarily' 'primary'\n",
      " 'prior' 'probability' 'probably' 'probe' 'problem' 'problems' 'procedure'\n",
      " 'procedures' 'process' 'processes' 'processing' 'produce' 'produced'\n",
      " 'product' 'production' 'products' 'profile' 'profiles' 'progesterone'\n",
      " 'prognosis' 'prognostic' 'program' 'programs' 'progression' 'progressive'\n",
      " 'proliferation' 'prolonged' 'promising' 'promote' 'promoter' 'properties'\n",
      " 'proportion' 'propose' 'proposed' 'prospective' 'prostate' 'protection'\n",
      " 'protective' 'protein' 'proteins' 'protocol' 'proved' 'provide'\n",
      " 'provided' 'providers' 'provides' 'providing' 'proximal' 'ps'\n",
      " 'psychiatric' 'psychological' 'public' 'published' 'pulmonary' 'purified'\n",
      " 'purpose' 'putative' 'qualitative' 'quality' 'quantitative'\n",
      " 'questionnaire' 'questions' 'ra' 'rabbit' 'rabbits' 'radiation' 'radical'\n",
      " 'radiotherapy' 'random' 'randomized' 'randomly' 'range' 'ranged'\n",
      " 'ranging' 'rapid' 'rapidly' 'rare' 'rat' 'rate' 'rates' 'ratio' 'ratios'\n",
      " 'rats' 'reached' 'reaction' 'reactions' 'reactive' 'reactivity' 'reading'\n",
      " 'realtime' 'receive' 'received' 'receiving' 'recent' 'recently'\n",
      " 'receptor' 'receptors' 'recipients' 'recognition' 'recognized'\n",
      " 'recombinant' 'recommendations' 'recommended' 'reconstruction' 'recorded'\n",
      " 'records' 'recovered' 'recovery' 'recruited' 'recurrence' 'recurrent'\n",
      " 'red' 'reduce' 'reduced' 'reduces' 'reducing' 'reduction' 'reference'\n",
      " 'referred' 'reflect' 'regard' 'regarding' 'regimen' 'region' 'regional'\n",
      " 'regions' 'regression' 'regulate' 'regulated' 'regulation' 'regulatory'\n",
      " 'related' 'relation' 'relationship' 'relationships' 'relative'\n",
      " 'relatively' 'relaxation' 'release' 'released' 'relevant' 'reliability'\n",
      " 'reliable' 'remain' 'remained' 'remaining' 'remains' 'remission'\n",
      " 'removal' 'removed' 'renal' 'repair' 'repeat' 'repeated' 'replacement'\n",
      " 'replication' 'report' 'reported' 'reporting' 'reports' 'represent'\n",
      " 'represents' 'reproductive' 'require' 'required' 'requires' 'research'\n",
      " 'resection' 'residents' 'residual' 'residue' 'residues' 'resistance'\n",
      " 'resistant' 'resolution' 'resonance' 'resources' 'respect' 'respectively'\n",
      " 'respiratory' 'respondents' 'response' 'responses' 'responsible'\n",
      " 'restricted' 'restriction' 'result' 'resulted' 'resulting' 'results'\n",
      " 'retention' 'retinal' 'retrospective' 'retrospectively' 'reveal'\n",
      " 'revealed' 'reverse' 'review' 'reviewed' 'right' 'rise' 'risk' 'risks'\n",
      " 'rna' 'role' 'roles' 'root' 'routine' 'rs' 'rtpcr' 'rural' 'safe'\n",
      " 'safety' 'saline' 'salt' 'sample' 'samples' 'sampling' 'satisfaction'\n",
      " 'scale' 'scan' 'scanning' 'school' 'score' 'scores' 'screening' 'sd'\n",
      " 'search' 'second' 'secondary' 'secretion' 'sections' 'seen' 'segment'\n",
      " 'segments' 'selected' 'selection' 'selective' 'sensitive' 'sensitivity'\n",
      " 'sensory' 'separate' 'separated' 'separation' 'sequence' 'sequences'\n",
      " 'sequencing' 'sera' 'series' 'serum' 'serve' 'service' 'services' 'set'\n",
      " 'sets' 'setting' 'settings' 'seven' 'severe' 'severity' 'sex' 'sexual'\n",
      " 'shape' 'shift' 'shock' 'short' 'shorter' 'showed' 'showing' 'shown'\n",
      " 'shows' 'signal' 'signaling' 'signals' 'significance' 'significant'\n",
      " 'significantly' 'signs' 'similar' 'similarly' 'simple' 'simulation'\n",
      " 'simultaneous' 'simultaneously' 'single' 'site' 'sites' 'situ' 'size'\n",
      " 'skeletal' 'skills' 'skin' 'sleep' 'slightly' 'slow' 'small' 'smaller'\n",
      " 'smoking' 'smooth' 'social' 'sodium' 'soft' 'soil' 'solid' 'soluble'\n",
      " 'solution' 'solutions' 'source' 'sources' 'sp' 'space' 'spatial'\n",
      " 'species' 'specific' 'specifically' 'specificity' 'specimens' 'spectra'\n",
      " 'spectrometry' 'spectroscopy' 'spectrum' 'speed' 'sperm' 'spinal' 'spine'\n",
      " 'spontaneous' 'st' 'stability' 'stable' 'staff' 'stage' 'stages'\n",
      " 'staining' 'standard' 'standardized' 'state' 'states' 'statistical'\n",
      " 'statistically' 'status' 'stay' 'stem' 'stenosis' 'step' 'steps'\n",
      " 'stimulated' 'stimulation' 'stimuli' 'stimulus' 'storage' 'strain'\n",
      " 'strains' 'strategies' 'strategy' 'strength' 'stress' 'stroke' 'strong'\n",
      " 'strongly' 'structural' 'structure' 'structures' 'students' 'studied'\n",
      " 'studies' 'study' 'subject' 'subjected' 'subjects' 'subsequent'\n",
      " 'subsequently' 'substance' 'substantial' 'substrate' 'substrates'\n",
      " 'subunit' 'subunits' 'success' 'successful' 'successfully' 'sufficient'\n",
      " 'suggest' 'suggested' 'suggesting' 'suggests' 'suitable' 'superior'\n",
      " 'support' 'supported' 'suppressed' 'suppression' 'surface' 'surfaces'\n",
      " 'surgery' 'surgical' 'surveillance' 'survey' 'survival' 'susceptibility'\n",
      " 'suspected' 'sustained' 'symptom' 'symptomatic' 'symptoms' 'synaptic'\n",
      " 'syndrome' 'synthase' 'synthesis' 'synthesized' 'synthetic' 'systematic'\n",
      " 'systemic' 'systems' 'systolic' 'taken' 'taking' 'target' 'targeted'\n",
      " 'targeting' 'targets' 'task' 'tasks' 'tcell' 'technique' 'techniques'\n",
      " 'technology' 'temperature' 'temporal' 'term' 'terminal' 'terms' 'test'\n",
      " 'tested' 'testing' 'tests' 'tg' 'th' 'theory' 'therapeutic' 'therapies'\n",
      " 'therapy' 'thermal' 'thickness' 'thoracic' 'thought' 'threshold'\n",
      " 'thyroid' 'time' 'times' 'tissue' 'tissues' 'tnfalpha' 'tobacco'\n",
      " 'tolerance' 'tomography' 'tool' 'tools' 'total' 'toxicity' 'tract'\n",
      " 'traditional' 'training' 'traits' 'transcription' 'transcriptional'\n",
      " 'transcripts' 'transfer' 'transformation' 'transgenic' 'transient'\n",
      " 'transition' 'translation' 'transmission' 'transplant' 'transplantation'\n",
      " 'transport' 'trauma' 'treat' 'treated' 'treating' 'treatment'\n",
      " 'treatments' 'trend' 'trends' 'trial' 'trials' 'truncated' 'tube'\n",
      " 'tuberculosis' 'tumor' 'tumors' 'tumour' 'tumours' 'twice' 'type' 'types'\n",
      " 'typical' 'tyrosine' 'ultrasound' 'unchanged' 'unclear' 'undergoing'\n",
      " 'underlying' 'understand' 'understanding' 'understood' 'underwent'\n",
      " 'unique' 'unit' 'united' 'units' 'university' 'unknown' 'untreated'\n",
      " 'upper' 'upregulated' 'upregulation' 'uptake' 'urban' 'urinary' 'urine'\n",
      " 'use' 'used' 'useful' 'users' 'using' 'usually' 'uterine' 'vaccination'\n",
      " 'vaccine' 'validated' 'validity' 'value' 'values' 'valve' 'variability'\n",
      " 'variable' 'variables' 'variance' 'variant' 'variants' 'variation'\n",
      " 'variations' 'varied' 'variety' 'various' 'varying' 'vascular' 'vector'\n",
      " 'vegf' 'vein' 'velocity' 'venous' 'ventilation' 'ventricular' 'versus'\n",
      " 'vessel' 'vessels' 'viability' 'view' 'viral' 'virus' 'viruses' 'visual'\n",
      " 'vitamin' 'vitro' 'vivo' 'volume' 'volunteers' 'vs' 'wall' 'water' 'wave'\n",
      " 'way' 'week' 'weeks' 'weight' 'western' 'white' 'wide' 'widely' 'wild'\n",
      " 'wildtype' 'woman' 'women' 'words' 'work' 'workers' 'working' 'world'\n",
      " 'wound' 'wt' 'xray' 'year' 'yearold' 'years' 'yeast' 'yield' 'yielded'\n",
      " 'young' 'younger' 'zinc' 'zone' 'ìm']\n"
     ]
    }
   ],
   "source": [
    "X_train_tfidf_matrix, X_test_tfidf_matrix, feature_names = taa.tfidf_vectorize2(X_train, X_test, max_features=2000, text_column_name='abstractText')"
   ]
  },
  {
   "cell_type": "markdown",
   "metadata": {},
   "source": [
    "## IV. Processing"
   ]
  },
  {
   "cell_type": "markdown",
   "metadata": {},
   "source": [
    "### A. Sans extraction des concepts"
   ]
  },
  {
   "cell_type": "markdown",
   "metadata": {},
   "source": [
    "30min pour run le ClassifierChain"
   ]
  },
  {
   "cell_type": "code",
   "execution_count": 98,
   "metadata": {},
   "outputs": [
    {
     "name": "stdout",
     "output_type": "stream",
     "text": [
      "Running MultiOutputClassifier...\n",
      "Evaluating MultiOutputClassifier...\n",
      "Classification Report:\n",
      "              precision    recall  f1-score   support\n",
      "\n",
      "           0       0.80      0.73      0.76     11641\n",
      "           1       0.95      0.99      0.97     23274\n",
      "           2       0.86      0.83      0.84     13179\n",
      "           3       0.90      0.89      0.89     15486\n",
      "           4       0.81      0.96      0.88     19629\n",
      "           5       0.84      0.58      0.69      4437\n",
      "           6       0.82      0.88      0.85     16802\n",
      "           7       0.58      0.09      0.15      3048\n",
      "           8       0.71      0.40      0.51      2839\n",
      "           9       0.72      0.23      0.35      2723\n",
      "          10       0.73      0.32      0.45      3729\n",
      "          11       0.86      0.87      0.86     10623\n",
      "          12       0.81      0.76      0.78     11447\n",
      "          13       0.74      0.50      0.60      4024\n",
      "\n",
      "   micro avg       0.85      0.81      0.83    142881\n",
      "   macro avg       0.79      0.64      0.68    142881\n",
      "weighted avg       0.84      0.81      0.81    142881\n",
      " samples avg       0.85      0.82      0.82    142881\n",
      "\n",
      "\n",
      "Running ClassifierChain...\n"
     ]
    },
    {
     "ename": "KeyboardInterrupt",
     "evalue": "",
     "output_type": "error",
     "traceback": [
      "\u001b[0;31m---------------------------------------------------------------------------\u001b[0m",
      "\u001b[0;31mKeyboardInterrupt\u001b[0m                         Traceback (most recent call last)",
      "Cell \u001b[0;32mIn[98], line 1\u001b[0m\n\u001b[0;32m----> 1\u001b[0m results \u001b[38;5;241m=\u001b[39m \u001b[43mtaa\u001b[49m\u001b[38;5;241;43m.\u001b[39;49m\u001b[43mrun_models\u001b[49m\u001b[43m(\u001b[49m\u001b[43mX_train_tfidf_matrix\u001b[49m\u001b[43m,\u001b[49m\u001b[43m \u001b[49m\u001b[43mX_test_tfidf_matrix\u001b[49m\u001b[43m,\u001b[49m\u001b[43m \u001b[49m\u001b[43my_train\u001b[49m\u001b[43m,\u001b[49m\u001b[43m \u001b[49m\u001b[43my_test\u001b[49m\u001b[43m)\u001b[49m\n",
      "File \u001b[0;32m~/Documents/Etudes/Master_Bio_info/Master_2/Semestre_1/TAA/TP/TP2_MLL_NLP/function_TAA.py:575\u001b[0m, in \u001b[0;36mrun_models\u001b[0;34m(X_train, X_test, y_train, y_test)\u001b[0m\n\u001b[1;32m    572\u001b[0m moc_metrics \u001b[38;5;241m=\u001b[39m evaluate(y_test, moc_pred)\n\u001b[1;32m    574\u001b[0m \u001b[38;5;28mprint\u001b[39m(\u001b[38;5;124m\"\u001b[39m\u001b[38;5;130;01m\\n\u001b[39;00m\u001b[38;5;124mRunning ClassifierChain...\u001b[39m\u001b[38;5;124m\"\u001b[39m)\n\u001b[0;32m--> 575\u001b[0m ecc_pred \u001b[38;5;241m=\u001b[39m \u001b[43mrunECC\u001b[49m\u001b[43m(\u001b[49m\u001b[43mX_train\u001b[49m\u001b[43m,\u001b[49m\u001b[43m \u001b[49m\u001b[43mX_test\u001b[49m\u001b[43m,\u001b[49m\u001b[43m \u001b[49m\u001b[43my_train\u001b[49m\u001b[43m,\u001b[49m\u001b[43m \u001b[49m\u001b[43my_test\u001b[49m\u001b[43m)\u001b[49m\n\u001b[1;32m    576\u001b[0m \u001b[38;5;28mprint\u001b[39m(\u001b[38;5;124m\"\u001b[39m\u001b[38;5;124mEvaluating ClassifierChain...\u001b[39m\u001b[38;5;124m\"\u001b[39m)\n\u001b[1;32m    577\u001b[0m ecc_metrics \u001b[38;5;241m=\u001b[39m evaluate(y_test, ecc_pred)\n",
      "File \u001b[0;32m~/Documents/Etudes/Master_Bio_info/Master_2/Semestre_1/TAA/TP/TP2_MLL_NLP/function_TAA.py:545\u001b[0m, in \u001b[0;36mrunECC\u001b[0;34m(X_train, X_test, y_train, y_test)\u001b[0m\n\u001b[1;32m    543\u001b[0m \u001b[38;5;28;01mfor\u001b[39;00m chain \u001b[38;5;129;01min\u001b[39;00m chains:\n\u001b[1;32m    544\u001b[0m     chain\u001b[38;5;241m.\u001b[39mfit(X_train, y_train)\n\u001b[0;32m--> 545\u001b[0m     preds\u001b[38;5;241m.\u001b[39mappend(\u001b[43mchain\u001b[49m\u001b[38;5;241;43m.\u001b[39;49m\u001b[43mpredict\u001b[49m\u001b[43m(\u001b[49m\u001b[43mX_test\u001b[49m\u001b[43m)\u001b[49m)\n\u001b[1;32m    547\u001b[0m \u001b[38;5;66;03m# Moyenne des résultats pour obtenir un seul tableau de prédictions\u001b[39;00m\n\u001b[1;32m    548\u001b[0m y_pred \u001b[38;5;241m=\u001b[39m \u001b[38;5;28msum\u001b[39m(preds) \u001b[38;5;241m/\u001b[39m \u001b[38;5;28mlen\u001b[39m(preds)\n",
      "File \u001b[0;32m~/anaconda3/envs/taa_tp1/lib/python3.9/site-packages/sklearn/multioutput.py:831\u001b[0m, in \u001b[0;36m_BaseChain.predict\u001b[0;34m(self, X)\u001b[0m\n\u001b[1;32m    818\u001b[0m \u001b[38;5;28;01mdef\u001b[39;00m \u001b[38;5;21mpredict\u001b[39m(\u001b[38;5;28mself\u001b[39m, X):\n\u001b[1;32m    819\u001b[0m \u001b[38;5;250m    \u001b[39m\u001b[38;5;124;03m\"\"\"Predict on the data matrix X using the ClassifierChain model.\u001b[39;00m\n\u001b[1;32m    820\u001b[0m \n\u001b[1;32m    821\u001b[0m \u001b[38;5;124;03m    Parameters\u001b[39;00m\n\u001b[0;32m   (...)\u001b[0m\n\u001b[1;32m    829\u001b[0m \u001b[38;5;124;03m        The predicted values.\u001b[39;00m\n\u001b[1;32m    830\u001b[0m \u001b[38;5;124;03m    \"\"\"\u001b[39;00m\n\u001b[0;32m--> 831\u001b[0m     \u001b[38;5;28;01mreturn\u001b[39;00m \u001b[38;5;28;43mself\u001b[39;49m\u001b[38;5;241;43m.\u001b[39;49m\u001b[43m_get_predictions\u001b[49m\u001b[43m(\u001b[49m\u001b[43mX\u001b[49m\u001b[43m,\u001b[49m\u001b[43m \u001b[49m\u001b[43moutput_method\u001b[49m\u001b[38;5;241;43m=\u001b[39;49m\u001b[38;5;124;43m\"\u001b[39;49m\u001b[38;5;124;43mpredict\u001b[39;49m\u001b[38;5;124;43m\"\u001b[39;49m\u001b[43m)\u001b[49m\n",
      "File \u001b[0;32m~/anaconda3/envs/taa_tp1/lib/python3.9/site-packages/sklearn/multioutput.py:681\u001b[0m, in \u001b[0;36m_BaseChain._get_predictions\u001b[0;34m(self, X, output_method)\u001b[0m\n\u001b[1;32m    678\u001b[0m     X \u001b[38;5;241m=\u001b[39m sp\u001b[38;5;241m.\u001b[39mcoo_array(X)\n\u001b[1;32m    679\u001b[0m X_aug \u001b[38;5;241m=\u001b[39m hstack((X, previous_predictions))\n\u001b[0;32m--> 681\u001b[0m feature_predictions, _ \u001b[38;5;241m=\u001b[39m \u001b[43m_get_response_values\u001b[49m\u001b[43m(\u001b[49m\n\u001b[1;32m    682\u001b[0m \u001b[43m    \u001b[49m\u001b[43mestimator\u001b[49m\u001b[43m,\u001b[49m\n\u001b[1;32m    683\u001b[0m \u001b[43m    \u001b[49m\u001b[43mX_aug\u001b[49m\u001b[43m,\u001b[49m\n\u001b[1;32m    684\u001b[0m \u001b[43m    \u001b[49m\u001b[43mresponse_method\u001b[49m\u001b[38;5;241;43m=\u001b[39;49m\u001b[43mchain_method\u001b[49m\u001b[43m,\u001b[49m\n\u001b[1;32m    685\u001b[0m \u001b[43m\u001b[49m\u001b[43m)\u001b[49m\n\u001b[1;32m    686\u001b[0m Y_feature_chain[:, chain_idx] \u001b[38;5;241m=\u001b[39m feature_predictions\n\u001b[1;32m    688\u001b[0m output_predictions, _ \u001b[38;5;241m=\u001b[39m _get_response_values(\n\u001b[1;32m    689\u001b[0m     estimator,\n\u001b[1;32m    690\u001b[0m     X_aug,\n\u001b[1;32m    691\u001b[0m     response_method\u001b[38;5;241m=\u001b[39moutput_method,\n\u001b[1;32m    692\u001b[0m )\n",
      "File \u001b[0;32m~/anaconda3/envs/taa_tp1/lib/python3.9/site-packages/sklearn/utils/_response.py:214\u001b[0m, in \u001b[0;36m_get_response_values\u001b[0;34m(estimator, X, response_method, pos_label, return_response_method_used)\u001b[0m\n\u001b[1;32m    211\u001b[0m     \u001b[38;5;28;01melif\u001b[39;00m pos_label \u001b[38;5;129;01mis\u001b[39;00m \u001b[38;5;28;01mNone\u001b[39;00m \u001b[38;5;129;01mand\u001b[39;00m target_type \u001b[38;5;241m==\u001b[39m \u001b[38;5;124m\"\u001b[39m\u001b[38;5;124mbinary\u001b[39m\u001b[38;5;124m\"\u001b[39m:\n\u001b[1;32m    212\u001b[0m         pos_label \u001b[38;5;241m=\u001b[39m classes[\u001b[38;5;241m-\u001b[39m\u001b[38;5;241m1\u001b[39m]\n\u001b[0;32m--> 214\u001b[0m y_pred \u001b[38;5;241m=\u001b[39m \u001b[43mprediction_method\u001b[49m\u001b[43m(\u001b[49m\u001b[43mX\u001b[49m\u001b[43m)\u001b[49m\n\u001b[1;32m    216\u001b[0m \u001b[38;5;28;01mif\u001b[39;00m prediction_method\u001b[38;5;241m.\u001b[39m\u001b[38;5;18m__name__\u001b[39m \u001b[38;5;129;01min\u001b[39;00m (\u001b[38;5;124m\"\u001b[39m\u001b[38;5;124mpredict_proba\u001b[39m\u001b[38;5;124m\"\u001b[39m, \u001b[38;5;124m\"\u001b[39m\u001b[38;5;124mpredict_log_proba\u001b[39m\u001b[38;5;124m\"\u001b[39m):\n\u001b[1;32m    217\u001b[0m     y_pred \u001b[38;5;241m=\u001b[39m _process_predict_proba(\n\u001b[1;32m    218\u001b[0m         y_pred\u001b[38;5;241m=\u001b[39my_pred,\n\u001b[1;32m    219\u001b[0m         target_type\u001b[38;5;241m=\u001b[39mtarget_type,\n\u001b[1;32m    220\u001b[0m         classes\u001b[38;5;241m=\u001b[39mclasses,\n\u001b[1;32m    221\u001b[0m         pos_label\u001b[38;5;241m=\u001b[39mpos_label,\n\u001b[1;32m    222\u001b[0m     )\n",
      "File \u001b[0;32m~/anaconda3/envs/taa_tp1/lib/python3.9/site-packages/sklearn/neighbors/_classification.py:274\u001b[0m, in \u001b[0;36mKNeighborsClassifier.predict\u001b[0;34m(self, X)\u001b[0m\n\u001b[1;32m    271\u001b[0m         \u001b[38;5;28;01mreturn\u001b[39;00m \u001b[38;5;28mself\u001b[39m\u001b[38;5;241m.\u001b[39mclasses_[np\u001b[38;5;241m.\u001b[39margmax(probabilities, axis\u001b[38;5;241m=\u001b[39m\u001b[38;5;241m1\u001b[39m)]\n\u001b[1;32m    272\u001b[0m     \u001b[38;5;66;03m# In that case, we do not need the distances to perform\u001b[39;00m\n\u001b[1;32m    273\u001b[0m     \u001b[38;5;66;03m# the weighting so we do not compute them.\u001b[39;00m\n\u001b[0;32m--> 274\u001b[0m     neigh_ind \u001b[38;5;241m=\u001b[39m \u001b[38;5;28;43mself\u001b[39;49m\u001b[38;5;241;43m.\u001b[39;49m\u001b[43mkneighbors\u001b[49m\u001b[43m(\u001b[49m\u001b[43mX\u001b[49m\u001b[43m,\u001b[49m\u001b[43m \u001b[49m\u001b[43mreturn_distance\u001b[49m\u001b[38;5;241;43m=\u001b[39;49m\u001b[38;5;28;43;01mFalse\u001b[39;49;00m\u001b[43m)\u001b[49m\n\u001b[1;32m    275\u001b[0m     neigh_dist \u001b[38;5;241m=\u001b[39m \u001b[38;5;28;01mNone\u001b[39;00m\n\u001b[1;32m    276\u001b[0m \u001b[38;5;28;01melse\u001b[39;00m:\n",
      "File \u001b[0;32m~/anaconda3/envs/taa_tp1/lib/python3.9/site-packages/sklearn/neighbors/_base.py:906\u001b[0m, in \u001b[0;36mKNeighborsMixin.kneighbors\u001b[0;34m(self, X, n_neighbors, return_distance)\u001b[0m\n\u001b[1;32m    903\u001b[0m     \u001b[38;5;28;01melse\u001b[39;00m:\n\u001b[1;32m    904\u001b[0m         kwds \u001b[38;5;241m=\u001b[39m \u001b[38;5;28mself\u001b[39m\u001b[38;5;241m.\u001b[39meffective_metric_params_\n\u001b[0;32m--> 906\u001b[0m     chunked_results \u001b[38;5;241m=\u001b[39m \u001b[38;5;28;43mlist\u001b[39;49m\u001b[43m(\u001b[49m\n\u001b[1;32m    907\u001b[0m \u001b[43m        \u001b[49m\u001b[43mpairwise_distances_chunked\u001b[49m\u001b[43m(\u001b[49m\n\u001b[1;32m    908\u001b[0m \u001b[43m            \u001b[49m\u001b[43mX\u001b[49m\u001b[43m,\u001b[49m\n\u001b[1;32m    909\u001b[0m \u001b[43m            \u001b[49m\u001b[38;5;28;43mself\u001b[39;49m\u001b[38;5;241;43m.\u001b[39;49m\u001b[43m_fit_X\u001b[49m\u001b[43m,\u001b[49m\n\u001b[1;32m    910\u001b[0m \u001b[43m            \u001b[49m\u001b[43mreduce_func\u001b[49m\u001b[38;5;241;43m=\u001b[39;49m\u001b[43mreduce_func\u001b[49m\u001b[43m,\u001b[49m\n\u001b[1;32m    911\u001b[0m \u001b[43m            \u001b[49m\u001b[43mmetric\u001b[49m\u001b[38;5;241;43m=\u001b[39;49m\u001b[38;5;28;43mself\u001b[39;49m\u001b[38;5;241;43m.\u001b[39;49m\u001b[43meffective_metric_\u001b[49m\u001b[43m,\u001b[49m\n\u001b[1;32m    912\u001b[0m \u001b[43m            \u001b[49m\u001b[43mn_jobs\u001b[49m\u001b[38;5;241;43m=\u001b[39;49m\u001b[43mn_jobs\u001b[49m\u001b[43m,\u001b[49m\n\u001b[1;32m    913\u001b[0m \u001b[43m            \u001b[49m\u001b[38;5;241;43m*\u001b[39;49m\u001b[38;5;241;43m*\u001b[39;49m\u001b[43mkwds\u001b[49m\u001b[43m,\u001b[49m\n\u001b[1;32m    914\u001b[0m \u001b[43m        \u001b[49m\u001b[43m)\u001b[49m\n\u001b[1;32m    915\u001b[0m \u001b[43m    \u001b[49m\u001b[43m)\u001b[49m\n\u001b[1;32m    917\u001b[0m \u001b[38;5;28;01melif\u001b[39;00m \u001b[38;5;28mself\u001b[39m\u001b[38;5;241m.\u001b[39m_fit_method \u001b[38;5;129;01min\u001b[39;00m [\u001b[38;5;124m\"\u001b[39m\u001b[38;5;124mball_tree\u001b[39m\u001b[38;5;124m\"\u001b[39m, \u001b[38;5;124m\"\u001b[39m\u001b[38;5;124mkd_tree\u001b[39m\u001b[38;5;124m\"\u001b[39m]:\n\u001b[1;32m    918\u001b[0m     \u001b[38;5;28;01mif\u001b[39;00m issparse(X):\n",
      "File \u001b[0;32m~/anaconda3/envs/taa_tp1/lib/python3.9/site-packages/sklearn/metrics/pairwise.py:2261\u001b[0m, in \u001b[0;36mpairwise_distances_chunked\u001b[0;34m(X, Y, reduce_func, metric, n_jobs, working_memory, **kwds)\u001b[0m\n\u001b[1;32m   2259\u001b[0m \u001b[38;5;28;01mif\u001b[39;00m reduce_func \u001b[38;5;129;01mis\u001b[39;00m \u001b[38;5;129;01mnot\u001b[39;00m \u001b[38;5;28;01mNone\u001b[39;00m:\n\u001b[1;32m   2260\u001b[0m     chunk_size \u001b[38;5;241m=\u001b[39m D_chunk\u001b[38;5;241m.\u001b[39mshape[\u001b[38;5;241m0\u001b[39m]\n\u001b[0;32m-> 2261\u001b[0m     D_chunk \u001b[38;5;241m=\u001b[39m \u001b[43mreduce_func\u001b[49m\u001b[43m(\u001b[49m\u001b[43mD_chunk\u001b[49m\u001b[43m,\u001b[49m\u001b[43m \u001b[49m\u001b[43msl\u001b[49m\u001b[38;5;241;43m.\u001b[39;49m\u001b[43mstart\u001b[49m\u001b[43m)\u001b[49m\n\u001b[1;32m   2262\u001b[0m     _check_chunk_size(D_chunk, chunk_size)\n\u001b[1;32m   2263\u001b[0m \u001b[38;5;28;01myield\u001b[39;00m D_chunk\n",
      "File \u001b[0;32m~/anaconda3/envs/taa_tp1/lib/python3.9/site-packages/sklearn/neighbors/_base.py:750\u001b[0m, in \u001b[0;36mKNeighborsMixin._kneighbors_reduce_func\u001b[0;34m(self, dist, start, n_neighbors, return_distance)\u001b[0m\n\u001b[1;32m    723\u001b[0m \u001b[38;5;250m\u001b[39m\u001b[38;5;124;03m\"\"\"Reduce a chunk of distances to the nearest neighbors.\u001b[39;00m\n\u001b[1;32m    724\u001b[0m \n\u001b[1;32m    725\u001b[0m \u001b[38;5;124;03mCallback to :func:`sklearn.metrics.pairwise.pairwise_distances_chunked`\u001b[39;00m\n\u001b[0;32m   (...)\u001b[0m\n\u001b[1;32m    747\u001b[0m \u001b[38;5;124;03m    The neighbors indices.\u001b[39;00m\n\u001b[1;32m    748\u001b[0m \u001b[38;5;124;03m\"\"\"\u001b[39;00m\n\u001b[1;32m    749\u001b[0m sample_range \u001b[38;5;241m=\u001b[39m np\u001b[38;5;241m.\u001b[39marange(dist\u001b[38;5;241m.\u001b[39mshape[\u001b[38;5;241m0\u001b[39m])[:, \u001b[38;5;28;01mNone\u001b[39;00m]\n\u001b[0;32m--> 750\u001b[0m neigh_ind \u001b[38;5;241m=\u001b[39m \u001b[43mnp\u001b[49m\u001b[38;5;241;43m.\u001b[39;49m\u001b[43margpartition\u001b[49m\u001b[43m(\u001b[49m\u001b[43mdist\u001b[49m\u001b[43m,\u001b[49m\u001b[43m \u001b[49m\u001b[43mn_neighbors\u001b[49m\u001b[43m \u001b[49m\u001b[38;5;241;43m-\u001b[39;49m\u001b[43m \u001b[49m\u001b[38;5;241;43m1\u001b[39;49m\u001b[43m,\u001b[49m\u001b[43m \u001b[49m\u001b[43maxis\u001b[49m\u001b[38;5;241;43m=\u001b[39;49m\u001b[38;5;241;43m1\u001b[39;49m\u001b[43m)\u001b[49m\n\u001b[1;32m    751\u001b[0m neigh_ind \u001b[38;5;241m=\u001b[39m neigh_ind[:, :n_neighbors]\n\u001b[1;32m    752\u001b[0m \u001b[38;5;66;03m# argpartition doesn't guarantee sorted order, so we sort again\u001b[39;00m\n",
      "File \u001b[0;32m~/anaconda3/envs/taa_tp1/lib/python3.9/site-packages/numpy/core/fromnumeric.py:858\u001b[0m, in \u001b[0;36margpartition\u001b[0;34m(a, kth, axis, kind, order)\u001b[0m\n\u001b[1;32m    779\u001b[0m \u001b[38;5;129m@array_function_dispatch\u001b[39m(_argpartition_dispatcher)\n\u001b[1;32m    780\u001b[0m \u001b[38;5;28;01mdef\u001b[39;00m \u001b[38;5;21margpartition\u001b[39m(a, kth, axis\u001b[38;5;241m=\u001b[39m\u001b[38;5;241m-\u001b[39m\u001b[38;5;241m1\u001b[39m, kind\u001b[38;5;241m=\u001b[39m\u001b[38;5;124m'\u001b[39m\u001b[38;5;124mintroselect\u001b[39m\u001b[38;5;124m'\u001b[39m, order\u001b[38;5;241m=\u001b[39m\u001b[38;5;28;01mNone\u001b[39;00m):\n\u001b[1;32m    781\u001b[0m \u001b[38;5;250m    \u001b[39m\u001b[38;5;124;03m\"\"\"\u001b[39;00m\n\u001b[1;32m    782\u001b[0m \u001b[38;5;124;03m    Perform an indirect partition along the given axis using the\u001b[39;00m\n\u001b[1;32m    783\u001b[0m \u001b[38;5;124;03m    algorithm specified by the `kind` keyword. It returns an array of\u001b[39;00m\n\u001b[0;32m   (...)\u001b[0m\n\u001b[1;32m    856\u001b[0m \n\u001b[1;32m    857\u001b[0m \u001b[38;5;124;03m    \"\"\"\u001b[39;00m\n\u001b[0;32m--> 858\u001b[0m     \u001b[38;5;28;01mreturn\u001b[39;00m \u001b[43m_wrapfunc\u001b[49m\u001b[43m(\u001b[49m\u001b[43ma\u001b[49m\u001b[43m,\u001b[49m\u001b[43m \u001b[49m\u001b[38;5;124;43m'\u001b[39;49m\u001b[38;5;124;43margpartition\u001b[39;49m\u001b[38;5;124;43m'\u001b[39;49m\u001b[43m,\u001b[49m\u001b[43m \u001b[49m\u001b[43mkth\u001b[49m\u001b[43m,\u001b[49m\u001b[43m \u001b[49m\u001b[43maxis\u001b[49m\u001b[38;5;241;43m=\u001b[39;49m\u001b[43maxis\u001b[49m\u001b[43m,\u001b[49m\u001b[43m \u001b[49m\u001b[43mkind\u001b[49m\u001b[38;5;241;43m=\u001b[39;49m\u001b[43mkind\u001b[49m\u001b[43m,\u001b[49m\u001b[43m \u001b[49m\u001b[43morder\u001b[49m\u001b[38;5;241;43m=\u001b[39;49m\u001b[43morder\u001b[49m\u001b[43m)\u001b[49m\n",
      "File \u001b[0;32m~/anaconda3/envs/taa_tp1/lib/python3.9/site-packages/numpy/core/fromnumeric.py:59\u001b[0m, in \u001b[0;36m_wrapfunc\u001b[0;34m(obj, method, *args, **kwds)\u001b[0m\n\u001b[1;32m     56\u001b[0m     \u001b[38;5;28;01mreturn\u001b[39;00m _wrapit(obj, method, \u001b[38;5;241m*\u001b[39margs, \u001b[38;5;241m*\u001b[39m\u001b[38;5;241m*\u001b[39mkwds)\n\u001b[1;32m     58\u001b[0m \u001b[38;5;28;01mtry\u001b[39;00m:\n\u001b[0;32m---> 59\u001b[0m     \u001b[38;5;28;01mreturn\u001b[39;00m \u001b[43mbound\u001b[49m\u001b[43m(\u001b[49m\u001b[38;5;241;43m*\u001b[39;49m\u001b[43margs\u001b[49m\u001b[43m,\u001b[49m\u001b[43m \u001b[49m\u001b[38;5;241;43m*\u001b[39;49m\u001b[38;5;241;43m*\u001b[39;49m\u001b[43mkwds\u001b[49m\u001b[43m)\u001b[49m\n\u001b[1;32m     60\u001b[0m \u001b[38;5;28;01mexcept\u001b[39;00m \u001b[38;5;167;01mTypeError\u001b[39;00m:\n\u001b[1;32m     61\u001b[0m     \u001b[38;5;66;03m# A TypeError occurs if the object does have such a method in its\u001b[39;00m\n\u001b[1;32m     62\u001b[0m     \u001b[38;5;66;03m# class, but its signature is not identical to that of NumPy's. This\u001b[39;00m\n\u001b[0;32m   (...)\u001b[0m\n\u001b[1;32m     66\u001b[0m     \u001b[38;5;66;03m# Call _wrapit from within the except clause to ensure a potential\u001b[39;00m\n\u001b[1;32m     67\u001b[0m     \u001b[38;5;66;03m# exception has a traceback chain.\u001b[39;00m\n\u001b[1;32m     68\u001b[0m     \u001b[38;5;28;01mreturn\u001b[39;00m _wrapit(obj, method, \u001b[38;5;241m*\u001b[39margs, \u001b[38;5;241m*\u001b[39m\u001b[38;5;241m*\u001b[39mkwds)\n",
      "\u001b[0;31mKeyboardInterrupt\u001b[0m: "
     ]
    }
   ],
   "source": [
    "results = taa.run_models(X_train_tfidf_matrix, X_test_tfidf_matrix, y_train, y_test)"
   ]
  },
  {
   "cell_type": "markdown",
   "metadata": {},
   "source": [
    "### B. Avec extraction des concepts"
   ]
  },
  {
   "cell_type": "code",
   "execution_count": 8,
   "metadata": {},
   "outputs": [],
   "source": [
    "svd, X_train_svd_matrix, X_test_svd_matrix = taa.extract_concept_SVD(2, X_train_tfidf_matrix, X_test_tfidf_matrix)"
   ]
  },
  {
   "cell_type": "code",
   "execution_count": 9,
   "metadata": {},
   "outputs": [
    {
     "name": "stdout",
     "output_type": "stream",
     "text": [
      "Concept #0: patients cells group study treatment cell expression using results levels\n",
      "Concept #1: patients group years clinical risk age patient cases treatment months\n",
      "\n"
     ]
    }
   ],
   "source": [
    "# Afficher les 10 mots les plus pertinents pour chaque concept\n",
    "taa.print_top_words(svd, feature_names, 10)"
   ]
  },
  {
   "cell_type": "code",
   "execution_count": 10,
   "metadata": {},
   "outputs": [
    {
     "name": "stdout",
     "output_type": "stream",
     "text": [
      "Running MultiOutputClassifier...\n",
      "Evaluating MultiOutputClassifier...\n",
      "Classification Report:\n",
      "              precision    recall  f1-score   support\n",
      "\n",
      "           0       0.68      0.52      0.59     11641\n",
      "           1       0.93      1.00      0.96     23274\n",
      "           2       0.76      0.68      0.72     13179\n",
      "           3       0.79      0.82      0.80     15486\n",
      "           4       0.79      1.00      0.88     19629\n",
      "           5       0.00      0.00      0.00      4437\n",
      "           6       0.74      0.90      0.81     16802\n",
      "           7       0.00      0.00      0.00      3048\n",
      "           8       0.00      0.00      0.00      2839\n",
      "           9       0.00      0.00      0.00      2723\n",
      "          10       0.00      0.00      0.00      3729\n",
      "          11       0.81      0.75      0.78     10623\n",
      "          12       0.73      0.67      0.70     11447\n",
      "          13       0.25      0.00      0.00      4024\n",
      "\n",
      "   micro avg       0.79      0.71      0.75    142881\n",
      "   macro avg       0.46      0.45      0.45    142881\n",
      "weighted avg       0.68      0.71      0.69    142881\n",
      " samples avg       0.79      0.72      0.74    142881\n",
      "\n",
      "\n",
      "Running ClassifierChain...\n"
     ]
    },
    {
     "ename": "KeyboardInterrupt",
     "evalue": "",
     "output_type": "error",
     "traceback": [
      "\u001b[0;31m---------------------------------------------------------------------------\u001b[0m",
      "\u001b[0;31mKeyboardInterrupt\u001b[0m                         Traceback (most recent call last)",
      "Cell \u001b[0;32mIn[10], line 1\u001b[0m\n\u001b[0;32m----> 1\u001b[0m results \u001b[38;5;241m=\u001b[39m \u001b[43mtaa\u001b[49m\u001b[38;5;241;43m.\u001b[39;49m\u001b[43mrun_models\u001b[49m\u001b[43m(\u001b[49m\u001b[43mX_train_svd_matrix\u001b[49m\u001b[43m,\u001b[49m\u001b[43m \u001b[49m\u001b[43mX_test_svd_matrix\u001b[49m\u001b[43m,\u001b[49m\u001b[43m \u001b[49m\u001b[43my_train\u001b[49m\u001b[43m,\u001b[49m\u001b[43m \u001b[49m\u001b[43my_test\u001b[49m\u001b[43m)\u001b[49m\n",
      "File \u001b[0;32m~/Documents/Etudes/Master_Bio_info/Master_2/Semestre_1/TAA/TP/TP2_MLL_NLP/function_TAA.py:577\u001b[0m, in \u001b[0;36mrun_models\u001b[0;34m(X_train, X_test, y_train, y_test)\u001b[0m\n\u001b[1;32m    574\u001b[0m moc_metrics \u001b[38;5;241m=\u001b[39m evaluate(y_test, moc_pred)\n\u001b[1;32m    576\u001b[0m \u001b[38;5;28mprint\u001b[39m(\u001b[38;5;124m\"\u001b[39m\u001b[38;5;130;01m\\n\u001b[39;00m\u001b[38;5;124mRunning ClassifierChain...\u001b[39m\u001b[38;5;124m\"\u001b[39m)\n\u001b[0;32m--> 577\u001b[0m ecc_pred \u001b[38;5;241m=\u001b[39m \u001b[43mrunECC\u001b[49m\u001b[43m(\u001b[49m\u001b[43mX_train\u001b[49m\u001b[43m,\u001b[49m\u001b[43m \u001b[49m\u001b[43mX_test\u001b[49m\u001b[43m,\u001b[49m\u001b[43m \u001b[49m\u001b[43my_train\u001b[49m\u001b[43m,\u001b[49m\u001b[43m \u001b[49m\u001b[43my_test\u001b[49m\u001b[43m)\u001b[49m\n\u001b[1;32m    578\u001b[0m \u001b[38;5;28mprint\u001b[39m(\u001b[38;5;124m\"\u001b[39m\u001b[38;5;124mEvaluating ClassifierChain...\u001b[39m\u001b[38;5;124m\"\u001b[39m)\n\u001b[1;32m    579\u001b[0m ecc_metrics \u001b[38;5;241m=\u001b[39m evaluate(y_test, ecc_pred)\n",
      "File \u001b[0;32m~/Documents/Etudes/Master_Bio_info/Master_2/Semestre_1/TAA/TP/TP2_MLL_NLP/function_TAA.py:547\u001b[0m, in \u001b[0;36mrunECC\u001b[0;34m(X_train, X_test, y_train, y_test)\u001b[0m\n\u001b[1;32m    545\u001b[0m \u001b[38;5;28;01mfor\u001b[39;00m chain \u001b[38;5;129;01min\u001b[39;00m chains:\n\u001b[1;32m    546\u001b[0m     chain\u001b[38;5;241m.\u001b[39mfit(X_train, y_train)\n\u001b[0;32m--> 547\u001b[0m     preds\u001b[38;5;241m.\u001b[39mappend(\u001b[43mchain\u001b[49m\u001b[38;5;241;43m.\u001b[39;49m\u001b[43mpredict\u001b[49m\u001b[43m(\u001b[49m\u001b[43mX_test\u001b[49m\u001b[43m)\u001b[49m)\n\u001b[1;32m    549\u001b[0m \u001b[38;5;66;03m# Moyenne des résultats pour obtenir un seul tableau de prédictions\u001b[39;00m\n\u001b[1;32m    550\u001b[0m y_pred \u001b[38;5;241m=\u001b[39m \u001b[38;5;28msum\u001b[39m(preds) \u001b[38;5;241m/\u001b[39m \u001b[38;5;28mlen\u001b[39m(preds)\n",
      "File \u001b[0;32m~/anaconda3/envs/taa_tp1/lib/python3.9/site-packages/sklearn/multioutput.py:831\u001b[0m, in \u001b[0;36m_BaseChain.predict\u001b[0;34m(self, X)\u001b[0m\n\u001b[1;32m    818\u001b[0m \u001b[38;5;28;01mdef\u001b[39;00m \u001b[38;5;21mpredict\u001b[39m(\u001b[38;5;28mself\u001b[39m, X):\n\u001b[1;32m    819\u001b[0m \u001b[38;5;250m    \u001b[39m\u001b[38;5;124;03m\"\"\"Predict on the data matrix X using the ClassifierChain model.\u001b[39;00m\n\u001b[1;32m    820\u001b[0m \n\u001b[1;32m    821\u001b[0m \u001b[38;5;124;03m    Parameters\u001b[39;00m\n\u001b[0;32m   (...)\u001b[0m\n\u001b[1;32m    829\u001b[0m \u001b[38;5;124;03m        The predicted values.\u001b[39;00m\n\u001b[1;32m    830\u001b[0m \u001b[38;5;124;03m    \"\"\"\u001b[39;00m\n\u001b[0;32m--> 831\u001b[0m     \u001b[38;5;28;01mreturn\u001b[39;00m \u001b[38;5;28;43mself\u001b[39;49m\u001b[38;5;241;43m.\u001b[39;49m\u001b[43m_get_predictions\u001b[49m\u001b[43m(\u001b[49m\u001b[43mX\u001b[49m\u001b[43m,\u001b[49m\u001b[43m \u001b[49m\u001b[43moutput_method\u001b[49m\u001b[38;5;241;43m=\u001b[39;49m\u001b[38;5;124;43m\"\u001b[39;49m\u001b[38;5;124;43mpredict\u001b[39;49m\u001b[38;5;124;43m\"\u001b[39;49m\u001b[43m)\u001b[49m\n",
      "File \u001b[0;32m~/anaconda3/envs/taa_tp1/lib/python3.9/site-packages/sklearn/multioutput.py:681\u001b[0m, in \u001b[0;36m_BaseChain._get_predictions\u001b[0;34m(self, X, output_method)\u001b[0m\n\u001b[1;32m    678\u001b[0m     X \u001b[38;5;241m=\u001b[39m sp\u001b[38;5;241m.\u001b[39mcoo_array(X)\n\u001b[1;32m    679\u001b[0m X_aug \u001b[38;5;241m=\u001b[39m hstack((X, previous_predictions))\n\u001b[0;32m--> 681\u001b[0m feature_predictions, _ \u001b[38;5;241m=\u001b[39m \u001b[43m_get_response_values\u001b[49m\u001b[43m(\u001b[49m\n\u001b[1;32m    682\u001b[0m \u001b[43m    \u001b[49m\u001b[43mestimator\u001b[49m\u001b[43m,\u001b[49m\n\u001b[1;32m    683\u001b[0m \u001b[43m    \u001b[49m\u001b[43mX_aug\u001b[49m\u001b[43m,\u001b[49m\n\u001b[1;32m    684\u001b[0m \u001b[43m    \u001b[49m\u001b[43mresponse_method\u001b[49m\u001b[38;5;241;43m=\u001b[39;49m\u001b[43mchain_method\u001b[49m\u001b[43m,\u001b[49m\n\u001b[1;32m    685\u001b[0m \u001b[43m\u001b[49m\u001b[43m)\u001b[49m\n\u001b[1;32m    686\u001b[0m Y_feature_chain[:, chain_idx] \u001b[38;5;241m=\u001b[39m feature_predictions\n\u001b[1;32m    688\u001b[0m output_predictions, _ \u001b[38;5;241m=\u001b[39m _get_response_values(\n\u001b[1;32m    689\u001b[0m     estimator,\n\u001b[1;32m    690\u001b[0m     X_aug,\n\u001b[1;32m    691\u001b[0m     response_method\u001b[38;5;241m=\u001b[39moutput_method,\n\u001b[1;32m    692\u001b[0m )\n",
      "File \u001b[0;32m~/anaconda3/envs/taa_tp1/lib/python3.9/site-packages/sklearn/utils/_response.py:214\u001b[0m, in \u001b[0;36m_get_response_values\u001b[0;34m(estimator, X, response_method, pos_label, return_response_method_used)\u001b[0m\n\u001b[1;32m    211\u001b[0m     \u001b[38;5;28;01melif\u001b[39;00m pos_label \u001b[38;5;129;01mis\u001b[39;00m \u001b[38;5;28;01mNone\u001b[39;00m \u001b[38;5;129;01mand\u001b[39;00m target_type \u001b[38;5;241m==\u001b[39m \u001b[38;5;124m\"\u001b[39m\u001b[38;5;124mbinary\u001b[39m\u001b[38;5;124m\"\u001b[39m:\n\u001b[1;32m    212\u001b[0m         pos_label \u001b[38;5;241m=\u001b[39m classes[\u001b[38;5;241m-\u001b[39m\u001b[38;5;241m1\u001b[39m]\n\u001b[0;32m--> 214\u001b[0m y_pred \u001b[38;5;241m=\u001b[39m \u001b[43mprediction_method\u001b[49m\u001b[43m(\u001b[49m\u001b[43mX\u001b[49m\u001b[43m)\u001b[49m\n\u001b[1;32m    216\u001b[0m \u001b[38;5;28;01mif\u001b[39;00m prediction_method\u001b[38;5;241m.\u001b[39m\u001b[38;5;18m__name__\u001b[39m \u001b[38;5;129;01min\u001b[39;00m (\u001b[38;5;124m\"\u001b[39m\u001b[38;5;124mpredict_proba\u001b[39m\u001b[38;5;124m\"\u001b[39m, \u001b[38;5;124m\"\u001b[39m\u001b[38;5;124mpredict_log_proba\u001b[39m\u001b[38;5;124m\"\u001b[39m):\n\u001b[1;32m    217\u001b[0m     y_pred \u001b[38;5;241m=\u001b[39m _process_predict_proba(\n\u001b[1;32m    218\u001b[0m         y_pred\u001b[38;5;241m=\u001b[39my_pred,\n\u001b[1;32m    219\u001b[0m         target_type\u001b[38;5;241m=\u001b[39mtarget_type,\n\u001b[1;32m    220\u001b[0m         classes\u001b[38;5;241m=\u001b[39mclasses,\n\u001b[1;32m    221\u001b[0m         pos_label\u001b[38;5;241m=\u001b[39mpos_label,\n\u001b[1;32m    222\u001b[0m     )\n",
      "File \u001b[0;32m~/anaconda3/envs/taa_tp1/lib/python3.9/site-packages/sklearn/neighbors/_classification.py:298\u001b[0m, in \u001b[0;36mKNeighborsClassifier.predict\u001b[0;34m(self, X)\u001b[0m\n\u001b[1;32m    296\u001b[0m \u001b[38;5;28;01mfor\u001b[39;00m k, classes_k \u001b[38;5;129;01min\u001b[39;00m \u001b[38;5;28menumerate\u001b[39m(classes_):\n\u001b[1;32m    297\u001b[0m     \u001b[38;5;28;01mif\u001b[39;00m weights \u001b[38;5;129;01mis\u001b[39;00m \u001b[38;5;28;01mNone\u001b[39;00m:\n\u001b[0;32m--> 298\u001b[0m         mode, _ \u001b[38;5;241m=\u001b[39m \u001b[43m_mode\u001b[49m\u001b[43m(\u001b[49m\u001b[43m_y\u001b[49m\u001b[43m[\u001b[49m\u001b[43mneigh_ind\u001b[49m\u001b[43m,\u001b[49m\u001b[43m \u001b[49m\u001b[43mk\u001b[49m\u001b[43m]\u001b[49m\u001b[43m,\u001b[49m\u001b[43m \u001b[49m\u001b[43maxis\u001b[49m\u001b[38;5;241;43m=\u001b[39;49m\u001b[38;5;241;43m1\u001b[39;49m\u001b[43m)\u001b[49m\n\u001b[1;32m    299\u001b[0m     \u001b[38;5;28;01melse\u001b[39;00m:\n\u001b[1;32m    300\u001b[0m         mode, _ \u001b[38;5;241m=\u001b[39m weighted_mode(_y[neigh_ind, k], weights, axis\u001b[38;5;241m=\u001b[39m\u001b[38;5;241m1\u001b[39m)\n",
      "File \u001b[0;32m~/anaconda3/envs/taa_tp1/lib/python3.9/site-packages/sklearn/utils/fixes.py:102\u001b[0m, in \u001b[0;36m_mode\u001b[0;34m(a, axis)\u001b[0m\n\u001b[1;32m    100\u001b[0m \u001b[38;5;28;01mdef\u001b[39;00m \u001b[38;5;21m_mode\u001b[39m(a, axis\u001b[38;5;241m=\u001b[39m\u001b[38;5;241m0\u001b[39m):\n\u001b[1;32m    101\u001b[0m     \u001b[38;5;28;01mif\u001b[39;00m sp_version \u001b[38;5;241m>\u001b[39m\u001b[38;5;241m=\u001b[39m parse_version(\u001b[38;5;124m\"\u001b[39m\u001b[38;5;124m1.9.0\u001b[39m\u001b[38;5;124m\"\u001b[39m):\n\u001b[0;32m--> 102\u001b[0m         mode \u001b[38;5;241m=\u001b[39m \u001b[43mscipy\u001b[49m\u001b[38;5;241;43m.\u001b[39;49m\u001b[43mstats\u001b[49m\u001b[38;5;241;43m.\u001b[39;49m\u001b[43mmode\u001b[49m\u001b[43m(\u001b[49m\u001b[43ma\u001b[49m\u001b[43m,\u001b[49m\u001b[43m \u001b[49m\u001b[43maxis\u001b[49m\u001b[38;5;241;43m=\u001b[39;49m\u001b[43maxis\u001b[49m\u001b[43m,\u001b[49m\u001b[43m \u001b[49m\u001b[43mkeepdims\u001b[49m\u001b[38;5;241;43m=\u001b[39;49m\u001b[38;5;28;43;01mTrue\u001b[39;49;00m\u001b[43m)\u001b[49m\n\u001b[1;32m    103\u001b[0m         \u001b[38;5;28;01mif\u001b[39;00m sp_version \u001b[38;5;241m>\u001b[39m\u001b[38;5;241m=\u001b[39m parse_version(\u001b[38;5;124m\"\u001b[39m\u001b[38;5;124m1.10.999\u001b[39m\u001b[38;5;124m\"\u001b[39m):\n\u001b[1;32m    104\u001b[0m             \u001b[38;5;66;03m# scipy.stats.mode has changed returned array shape with axis=None\u001b[39;00m\n\u001b[1;32m    105\u001b[0m             \u001b[38;5;66;03m# and keepdims=True, see https://github.com/scipy/scipy/pull/17561\u001b[39;00m\n\u001b[1;32m    106\u001b[0m             \u001b[38;5;28;01mif\u001b[39;00m axis \u001b[38;5;129;01mis\u001b[39;00m \u001b[38;5;28;01mNone\u001b[39;00m:\n",
      "File \u001b[0;32m~/anaconda3/envs/taa_tp1/lib/python3.9/site-packages/scipy/stats/_axis_nan_policy.py:603\u001b[0m, in \u001b[0;36m_axis_nan_policy_factory.<locals>.axis_nan_policy_decorator.<locals>.axis_nan_policy_wrapper\u001b[0;34m(***failed resolving arguments***)\u001b[0m\n\u001b[1;32m    600\u001b[0m         \u001b[38;5;28;01mreturn\u001b[39;00m result_to_tuple(hypotest_fun_out(\u001b[38;5;241m*\u001b[39msamples, \u001b[38;5;241m*\u001b[39m\u001b[38;5;241m*\u001b[39mkwds))\n\u001b[1;32m    602\u001b[0m x \u001b[38;5;241m=\u001b[39m np\u001b[38;5;241m.\u001b[39mmoveaxis(x, axis, \u001b[38;5;241m0\u001b[39m)\n\u001b[0;32m--> 603\u001b[0m res \u001b[38;5;241m=\u001b[39m \u001b[43mnp\u001b[49m\u001b[38;5;241;43m.\u001b[39;49m\u001b[43mapply_along_axis\u001b[49m\u001b[43m(\u001b[49m\u001b[43mhypotest_fun\u001b[49m\u001b[43m,\u001b[49m\u001b[43m \u001b[49m\u001b[43maxis\u001b[49m\u001b[38;5;241;43m=\u001b[39;49m\u001b[38;5;241;43m0\u001b[39;49m\u001b[43m,\u001b[49m\u001b[43m \u001b[49m\u001b[43marr\u001b[49m\u001b[38;5;241;43m=\u001b[39;49m\u001b[43mx\u001b[49m\u001b[43m)\u001b[49m\n\u001b[1;32m    604\u001b[0m res \u001b[38;5;241m=\u001b[39m _add_reduced_axes(res, reduced_axes, keepdims)\n\u001b[1;32m    605\u001b[0m \u001b[38;5;28;01mreturn\u001b[39;00m tuple_to_result(\u001b[38;5;241m*\u001b[39mres)\n",
      "File \u001b[0;32m~/anaconda3/envs/taa_tp1/lib/python3.9/site-packages/numpy/lib/shape_base.py:402\u001b[0m, in \u001b[0;36mapply_along_axis\u001b[0;34m(func1d, axis, arr, *args, **kwargs)\u001b[0m\n\u001b[1;32m    400\u001b[0m buff[ind0] \u001b[38;5;241m=\u001b[39m res\n\u001b[1;32m    401\u001b[0m \u001b[38;5;28;01mfor\u001b[39;00m ind \u001b[38;5;129;01min\u001b[39;00m inds:\n\u001b[0;32m--> 402\u001b[0m     buff[ind] \u001b[38;5;241m=\u001b[39m asanyarray(\u001b[43mfunc1d\u001b[49m\u001b[43m(\u001b[49m\u001b[43minarr_view\u001b[49m\u001b[43m[\u001b[49m\u001b[43mind\u001b[49m\u001b[43m]\u001b[49m\u001b[43m,\u001b[49m\u001b[43m \u001b[49m\u001b[38;5;241;43m*\u001b[39;49m\u001b[43margs\u001b[49m\u001b[43m,\u001b[49m\u001b[43m \u001b[49m\u001b[38;5;241;43m*\u001b[39;49m\u001b[38;5;241;43m*\u001b[39;49m\u001b[43mkwargs\u001b[49m\u001b[43m)\u001b[49m)\n\u001b[1;32m    404\u001b[0m \u001b[38;5;28;01mif\u001b[39;00m \u001b[38;5;129;01mnot\u001b[39;00m \u001b[38;5;28misinstance\u001b[39m(res, matrix):\n\u001b[1;32m    405\u001b[0m     \u001b[38;5;66;03m# wrap the array, to preserve subclasses\u001b[39;00m\n\u001b[1;32m    406\u001b[0m     buff \u001b[38;5;241m=\u001b[39m res\u001b[38;5;241m.\u001b[39m__array_wrap__(buff)\n",
      "File \u001b[0;32m~/anaconda3/envs/taa_tp1/lib/python3.9/site-packages/scipy/stats/_axis_nan_policy.py:600\u001b[0m, in \u001b[0;36m_axis_nan_policy_factory.<locals>.axis_nan_policy_decorator.<locals>.axis_nan_policy_wrapper.<locals>.hypotest_fun\u001b[0;34m(x)\u001b[0m\n\u001b[1;32m    598\u001b[0m \u001b[38;5;28;01mif\u001b[39;00m is_too_small(samples, kwds):\n\u001b[1;32m    599\u001b[0m     \u001b[38;5;28;01mreturn\u001b[39;00m np\u001b[38;5;241m.\u001b[39mfull(n_out, NaN)\n\u001b[0;32m--> 600\u001b[0m \u001b[38;5;28;01mreturn\u001b[39;00m result_to_tuple(\u001b[43mhypotest_fun_out\u001b[49m\u001b[43m(\u001b[49m\u001b[38;5;241;43m*\u001b[39;49m\u001b[43msamples\u001b[49m\u001b[43m,\u001b[49m\u001b[43m \u001b[49m\u001b[38;5;241;43m*\u001b[39;49m\u001b[38;5;241;43m*\u001b[39;49m\u001b[43mkwds\u001b[49m\u001b[43m)\u001b[49m)\n",
      "File \u001b[0;32m~/anaconda3/envs/taa_tp1/lib/python3.9/site-packages/scipy/stats/_stats_py.py:528\u001b[0m, in \u001b[0;36mmode\u001b[0;34m(a, axis, nan_policy, keepdims)\u001b[0m\n\u001b[1;32m    525\u001b[0m     NaN \u001b[38;5;241m=\u001b[39m _get_nan(a)\n\u001b[1;32m    526\u001b[0m     \u001b[38;5;28;01mreturn\u001b[39;00m ModeResult(\u001b[38;5;241m*\u001b[39mnp\u001b[38;5;241m.\u001b[39marray([NaN, \u001b[38;5;241m0\u001b[39m], dtype\u001b[38;5;241m=\u001b[39mNaN\u001b[38;5;241m.\u001b[39mdtype))\n\u001b[0;32m--> 528\u001b[0m vals, cnts \u001b[38;5;241m=\u001b[39m \u001b[43mnp\u001b[49m\u001b[38;5;241;43m.\u001b[39;49m\u001b[43munique\u001b[49m\u001b[43m(\u001b[49m\u001b[43ma\u001b[49m\u001b[43m,\u001b[49m\u001b[43m \u001b[49m\u001b[43mreturn_counts\u001b[49m\u001b[38;5;241;43m=\u001b[39;49m\u001b[38;5;28;43;01mTrue\u001b[39;49;00m\u001b[43m)\u001b[49m\n\u001b[1;32m    529\u001b[0m modes, counts \u001b[38;5;241m=\u001b[39m vals[cnts\u001b[38;5;241m.\u001b[39margmax()], cnts\u001b[38;5;241m.\u001b[39mmax()\n\u001b[1;32m    530\u001b[0m \u001b[38;5;28;01mreturn\u001b[39;00m ModeResult(modes[()], counts[()])\n",
      "File \u001b[0;32m~/anaconda3/envs/taa_tp1/lib/python3.9/site-packages/numpy/lib/arraysetops.py:274\u001b[0m, in \u001b[0;36munique\u001b[0;34m(ar, return_index, return_inverse, return_counts, axis, equal_nan)\u001b[0m\n\u001b[1;32m    272\u001b[0m ar \u001b[38;5;241m=\u001b[39m np\u001b[38;5;241m.\u001b[39masanyarray(ar)\n\u001b[1;32m    273\u001b[0m \u001b[38;5;28;01mif\u001b[39;00m axis \u001b[38;5;129;01mis\u001b[39;00m \u001b[38;5;28;01mNone\u001b[39;00m:\n\u001b[0;32m--> 274\u001b[0m     ret \u001b[38;5;241m=\u001b[39m \u001b[43m_unique1d\u001b[49m\u001b[43m(\u001b[49m\u001b[43mar\u001b[49m\u001b[43m,\u001b[49m\u001b[43m \u001b[49m\u001b[43mreturn_index\u001b[49m\u001b[43m,\u001b[49m\u001b[43m \u001b[49m\u001b[43mreturn_inverse\u001b[49m\u001b[43m,\u001b[49m\u001b[43m \u001b[49m\u001b[43mreturn_counts\u001b[49m\u001b[43m,\u001b[49m\u001b[43m \u001b[49m\n\u001b[1;32m    275\u001b[0m \u001b[43m                    \u001b[49m\u001b[43mequal_nan\u001b[49m\u001b[38;5;241;43m=\u001b[39;49m\u001b[43mequal_nan\u001b[49m\u001b[43m)\u001b[49m\n\u001b[1;32m    276\u001b[0m     \u001b[38;5;28;01mreturn\u001b[39;00m _unpack_tuple(ret)\n\u001b[1;32m    278\u001b[0m \u001b[38;5;66;03m# axis was specified and not None\u001b[39;00m\n",
      "File \u001b[0;32m~/anaconda3/envs/taa_tp1/lib/python3.9/site-packages/numpy/lib/arraysetops.py:336\u001b[0m, in \u001b[0;36m_unique1d\u001b[0;34m(ar, return_index, return_inverse, return_counts, equal_nan)\u001b[0m\n\u001b[1;32m    334\u001b[0m     aux \u001b[38;5;241m=\u001b[39m ar[perm]\n\u001b[1;32m    335\u001b[0m \u001b[38;5;28;01melse\u001b[39;00m:\n\u001b[0;32m--> 336\u001b[0m     \u001b[43mar\u001b[49m\u001b[38;5;241;43m.\u001b[39;49m\u001b[43msort\u001b[49m\u001b[43m(\u001b[49m\u001b[43m)\u001b[49m\n\u001b[1;32m    337\u001b[0m     aux \u001b[38;5;241m=\u001b[39m ar\n\u001b[1;32m    338\u001b[0m mask \u001b[38;5;241m=\u001b[39m np\u001b[38;5;241m.\u001b[39mempty(aux\u001b[38;5;241m.\u001b[39mshape, dtype\u001b[38;5;241m=\u001b[39mnp\u001b[38;5;241m.\u001b[39mbool_)\n",
      "\u001b[0;31mKeyboardInterrupt\u001b[0m: "
     ]
    }
   ],
   "source": [
    "results = taa.run_models(X_train_svd_matrix, X_test_svd_matrix, y_train, y_test)"
   ]
  },
  {
   "cell_type": "markdown",
   "metadata": {},
   "source": [
    "## V. Interprétations"
   ]
  },
  {
   "cell_type": "markdown",
   "metadata": {},
   "source": [
    "Définition des métriques\n",
    "- Micro-F1 : \n",
    "    - Moyenne pondérée des F1-scores, calculée sur l'ensemble des échantillons et des labels. Elle accorde plus de poids aux classes fréquentes.\n",
    "    - Indique la performance globale, favorisant les labels fréquents.\n",
    "\n",
    "- Macro-F1 : \n",
    "    - Moyenne des F1-scores par classe, non pondérée par la fréquence des classes.\n",
    "    - Évalue l'équilibre des performances sur toutes les classes, même les rares.\n",
    "\n",
    "- Zero-One-Loss : \n",
    "    - Proportion d'échantillons mal prédits entièrement (aucun label correct pour ces échantillons).\n",
    "    - Plus cette valeur est basse, plus la méthode est précise dans ses prédictions globales.\n",
    "\n",
    "\n",
    "---\n",
    "\n",
    "\n",
    "MultiOutputClassifier Metrics :\n",
    "- Sans extraction de concept :\n",
    "    - micro-F1: 0.8282540933682061\n",
    "    - macro-F1: 0.6836620901639565\n",
    "    - zero-one-loss: 0.86224\n",
    "- Avec extraction de concept :\n",
    "    - micro-F1: 0.7492527939410732\n",
    "    - macro-F1: 0.44628391519437743\n",
    "    - zero-one-loss: 0.93528\n",
    "\n",
    "ClassifierChain Metrics:\n",
    "- Sans extraction de concept :\n",
    "    - micro-F1: 0.7800861548030066\n",
    "    - macro-F1: 0.6245708592773794\n",
    "    - zero-one-loss: 0.91156\n",
    "- Avec extraction de concept :\n",
    "    - micro-F1: 0.7323635473724367\n",
    "    - macro-F1: 0.48255564574963455\n",
    "    - zero-one-loss: 0.94308\n",
    "\n",
    "\n",
    "---\n",
    "\n",
    "\n",
    "Micro-F1 et Macro-F1 diminuent :\n",
    "- La réduction de dimensions via TruncatedSVD réduit le détail et la richesse de l’information disponible pour la classification. Cela peut entraîner une perte d’efficacité, notamment pour des labels rares ou spécifiques.\n",
    "- Micro-F1 :\n",
    "    - Une diminution de la Micro-F1 signifie que les modèles deviennent moins performants sur les classes fréquentes. Cela peut arriver parce que :\n",
    "        - La réduction de dimensions élimine des informations discriminantes importantes pour séparer correctement les classes.\n",
    "        - Les données simplifiées via SVD ne contiennent plus suffisamment de diversité pour capturer les relations spécifiques aux labels fréquents.\n",
    "- Macro-F1 :\n",
    "    - La baisse de la Macro-F1 signifie que les performances se détériorent également sur les classes rares. Cela peut indiquer que :\n",
    "        - Les classes peu fréquentes perdent encore plus d’information lors de la réduction de dimensions.\n",
    "        - Les modèles ont du mal à distinguer des concepts fins ou spécifiques à cause de l’agrégation des données (SVD regroupe plusieurs mots synonymes ou termes proches dans des \"concepts\")\n",
    "\n",
    "Zero-One-Loss augmente :\n",
    "- Une augmentation de la zero-one-loss signifie que davantage d’échantillons n’ont aucun label correctement prédit. Cela peut s'expliquer par :\n",
    "    - La simplification excessive des données via SVD, qui rend plus difficile pour les modèles de capturer des associations précises entre les textes et leurs labels.\n",
    "    - Les concepts générés par SVD peuvent introduire de la confusion, en regroupant des termes ou des relations qui étaient distinctes dans les données originales.\n",
    "\n",
    "Différence entre MOC et ECC :\n",
    "- MultiOutputClassifier a de meilleures performances générales (Micro-F1, Macro-F1) car il considère chaque label de manière indépendante. En revanche, ClassifierChain peut souffrir si les premières étapes de la chaîne introduisent des erreurs.\n",
    "\n",
    "\n",
    "---\n",
    "\n",
    "\n",
    "Impact de l'extraction de concepts\n",
    "- Réduction de la richesse des données :\n",
    "        - La représentation via SVD simplifie les données en les projetant dans un espace de dimensions réduites. Bien que cela puisse résoudre des problèmes comme la synonymie ou la polysémie, cela peut aussi éliminer des détails importants pour la classification, surtout dans des tâches complexes comme le multi-label.\n",
    "- Perte de granularité :\n",
    "        - Les \"concepts\" créés par SVD sont des abstractions qui peuvent être utiles pour des tâches générales (comme la recherche d’information ou le regroupement thématique). Cependant, pour une tâche supervisée, cette abstraction peut rendre les données moins spécifiques et donc moins informatives pour les modèles."
   ]
  },
  {
   "cell_type": "markdown",
   "metadata": {},
   "source": [
    "---\n",
    "\n",
    "# Partie 2 : Word2Vec"
   ]
  },
  {
   "cell_type": "markdown",
   "metadata": {},
   "source": [
    "### I. Apprentissage de notre Word2vec"
   ]
  },
  {
   "cell_type": "code",
   "execution_count": 14,
   "metadata": {},
   "outputs": [
    {
     "name": "stdout",
     "output_type": "stream",
     "text": [
      "0 1 2 3 4 5 6 7 8 9 10 11 12 13 14 15 16 17 18 19 20 21 22 23 24 25 26 27 28 29 30 31 32 33 34 35 36 37 38 39 40 41 42 43 44 45 46 47 48 49 50 51 52 53 54 55 56 57 58 59 60 61 62 63 64 65 66 67 68 69 70 71 72 73 74 75 76 77 78 79 80 81 82 83 84 85 86 87 88 89 90 91 92 93 94 95 96 97 98 99 "
     ]
    }
   ],
   "source": [
    "model = taa.train_and_save_W2V_model(X_train, 'abstractText', model_name='W2V_model.h5', model_size=100)"
   ]
  },
  {
   "cell_type": "markdown",
   "metadata": {},
   "source": [
    "### I.bis Load W2V model"
   ]
  },
  {
   "cell_type": "markdown",
   "metadata": {},
   "source": [
    "Ou load un model déjà calculé"
   ]
  },
  {
   "cell_type": "code",
   "execution_count": 51,
   "metadata": {},
   "outputs": [
    {
     "name": "stdout",
     "output_type": "stream",
     "text": [
      "'W2V_model.h5' model loaded successfully !\n"
     ]
    }
   ],
   "source": [
    "model = taa.load_W2V_model('W2V_model.h5')"
   ]
  },
  {
   "cell_type": "code",
   "execution_count": 23,
   "metadata": {},
   "outputs": [
    {
     "data": {
      "text/plain": [
       "64145"
      ]
     },
     "execution_count": 23,
     "metadata": {},
     "output_type": "execute_result"
    }
   ],
   "source": [
    "# nombre total de mots ou tokens uniques qui ont été appris par le modèle Word2Vec\n",
    "len(model.wv.index_to_key)"
   ]
  },
  {
   "cell_type": "code",
   "execution_count": 24,
   "metadata": {},
   "outputs": [
    {
     "data": {
      "text/plain": [
       "array([ 0.70551544, -0.58564746,  1.2773905 ,  0.39034715, -1.1717767 ,\n",
       "       -0.50836295, -0.6285295 , -3.5601301 , -2.4200902 , -0.69639826,\n",
       "       -0.11781736,  2.6128697 ,  1.8171641 ,  0.5056995 ,  0.08613703,\n",
       "        1.9855902 , -0.9375737 , -0.08012076, -3.3683484 , -1.7677648 ,\n",
       "       -4.0997014 ,  1.0303427 , -3.4065216 , -1.2161359 ,  2.3347836 ,\n",
       "        0.49892956,  2.7193198 ,  0.8653835 , -2.0255556 , -2.4237309 ,\n",
       "        0.93678135,  0.47518346, -1.4093188 ,  2.7081394 ,  5.271242  ,\n",
       "       -1.1915237 ,  0.64169633,  0.70824975, -0.89290154, -1.1036202 ,\n",
       "        1.6426104 ,  3.555921  , -1.8148981 ,  4.6762214 , -1.2569295 ,\n",
       "        0.30270147,  0.16752827,  0.7504458 , -0.30910093,  0.9099122 ,\n",
       "       -3.041061  ,  1.0854207 ,  0.3324717 ,  0.24070838,  2.2364395 ,\n",
       "       -2.0504613 ,  0.86605364, -3.0726595 , -1.2031035 , -0.14883672,\n",
       "       -1.5186865 , -0.71611446,  0.2074284 , -2.4748237 , -0.35753253,\n",
       "        1.4049083 , -0.21507818, -0.63963354, -0.40001556,  0.21034078,\n",
       "        1.5452516 , -2.2989964 , -2.5428517 , -1.5453153 , -1.5976057 ,\n",
       "        2.063008  ,  1.8503214 ,  1.3903741 , -1.7914574 ,  2.4448605 ,\n",
       "        0.00944119, -2.9477737 , -0.9471777 ,  1.5042473 ,  0.58672434,\n",
       "       -0.6930017 , -1.6128672 , -0.4815577 ,  0.25077057,  2.850497  ,\n",
       "       -0.23150459, -0.6484951 ,  0.8374874 ,  1.1537994 ,  0.795272  ,\n",
       "       -2.6122668 ,  0.22197594, -0.8221378 ,  2.6600785 ,  1.6433222 ],\n",
       "      dtype=float32)"
      ]
     },
     "execution_count": 24,
     "metadata": {},
     "output_type": "execute_result"
    }
   ],
   "source": [
    "# Voir le vecteur de mot pour un mot spécifique\n",
    "model.wv['easy']"
   ]
  },
  {
   "cell_type": "markdown",
   "metadata": {},
   "source": [
    "#### B. Évaluation"
   ]
  },
  {
   "cell_type": "markdown",
   "metadata": {},
   "source": [
    "##### 1. Visualisation 2D"
   ]
  },
  {
   "cell_type": "code",
   "execution_count": 123,
   "metadata": {},
   "outputs": [
    {
     "data": {
      "image/png": "[encoded data removed]",
      "text/plain": [
       "<Figure size 640x480 with 1 Axes>"
      ]
     },
     "metadata": {},
     "output_type": "display_data"
    }
   ],
   "source": [
    "taa.plot_word_2d(model, 'patient')"
   ]
  },
  {
   "cell_type": "markdown",
   "metadata": {},
   "source": [
    "##### 2. Visualisation Heatmap"
   ]
  },
  {
   "cell_type": "code",
   "execution_count": null,
   "metadata": {},
   "outputs": [
    {
     "data": {
      "image/png": "[encoded data removed]",
      "text/plain": [
       "<Figure size 2000x100 with 2 Axes>"
      ]
     },
     "metadata": {},
     "output_type": "display_data"
    },
    {
     "data": {
      "image/png": "[encoded data removed]",
      "text/plain": [
       "<Figure size 2000x100 with 2 Axes>"
      ]
     },
     "metadata": {},
     "output_type": "display_data"
    },
    {
     "data": {
      "image/png": "[encoded data removed]",
      "text/plain": [
       "<Figure size 2000x100 with 2 Axes>"
      ]
     },
     "metadata": {},
     "output_type": "display_data"
    }
   ],
   "source": [
    "taa.simple_plot_W2V_heatmap(model.wv['surgeon'])\n",
    "taa.simple_plot_W2V_heatmap(model.wv['nurse'])\n",
    "taa.simple_plot_W2V_heatmap(model.wv['boy'])"
   ]
  },
  {
   "cell_type": "code",
   "execution_count": null,
   "metadata": {},
   "outputs": [
    {
     "data": {
      "image/png": "[encoded data removed]",
      "text/plain": [
       "<Figure size 2000x300 with 2 Axes>"
      ]
     },
     "metadata": {},
     "output_type": "display_data"
    }
   ],
   "source": [
    "words = ['surgeon', 'nurse', 'boy']\n",
    "taa.plot_W2V_heatmap(model, words=words)"
   ]
  },
  {
   "cell_type": "markdown",
   "metadata": {},
   "source": [
    "##### 3. Évaluation numérique"
   ]
  },
  {
   "cell_type": "code",
   "execution_count": 36,
   "metadata": {},
   "outputs": [
    {
     "name": "stdout",
     "output_type": "stream",
     "text": [
      "Le mot le moins similaire parmi ['food', 'drink', 'play'] est 'play'.\n"
     ]
    },
    {
     "data": {
      "text/plain": [
       "'play'"
      ]
     },
     "execution_count": 36,
     "metadata": {},
     "output_type": "execute_result"
    }
   ],
   "source": [
    "taa.less_similar_word(model, ['food','drink','play'])"
   ]
  },
  {
   "cell_type": "code",
   "execution_count": 40,
   "metadata": {},
   "outputs": [
    {
     "name": "stdout",
     "output_type": "stream",
     "text": [
      "Les mots les plus similaires à ['patient'] et dissimilaires à [] sont:\n"
     ]
    },
    {
     "data": {
      "text/plain": [
       "[('patients', 0.6226524114608765),\n",
       " ('child', 0.5518375635147095),\n",
       " ('case', 0.5492845177650452),\n",
       " ('girl', 0.5182830095291138),\n",
       " ('surgeon', 0.49075940251350403),\n",
       " ('woman', 0.4906884729862213),\n",
       " ('boy', 0.4864200949668884),\n",
       " ('neurologic', 0.4727533459663391),\n",
       " ('preoperative', 0.4698534309864044),\n",
       " ('children', 0.4488997161388397)]"
      ]
     },
     "execution_count": 40,
     "metadata": {},
     "output_type": "execute_result"
    }
   ],
   "source": [
    "taa.most_similar_words(model, close_to='patient', topn=10)"
   ]
  },
  {
   "cell_type": "code",
   "execution_count": 41,
   "metadata": {},
   "outputs": [
    {
     "name": "stdout",
     "output_type": "stream",
     "text": [
      "Les mots les plus similaires à ['nurse', 'doctor'] et dissimilaires à ['lady'] sont:\n"
     ]
    },
    {
     "data": {
      "text/plain": [
       "[('nurses', 0.5024677515029907),\n",
       " ('service', 0.4803749620914459),\n",
       " ('care', 0.47672343254089355),\n",
       " ('formal', 0.4644092917442322),\n",
       " ('nursing', 0.4605455994606018)]"
      ]
     },
     "execution_count": 41,
     "metadata": {},
     "output_type": "execute_result"
    }
   ],
   "source": [
    "taa.most_similar_words(model, close_to=['nurse', 'doctor'], far_from='lady', topn=5)"
   ]
  },
  {
   "cell_type": "markdown",
   "metadata": {},
   "source": [
    "### II. Vectorisation"
   ]
  },
  {
   "cell_type": "markdown",
   "metadata": {},
   "source": [
    "#### A. Vectorisation sans TF-IDF"
   ]
  },
  {
   "cell_type": "code",
   "execution_count": 69,
   "metadata": {},
   "outputs": [
    {
     "name": "stdout",
     "output_type": "stream",
     "text": [
      "Les représentations Word2Vec moyennes ont été générées pour 25000 textes.\n",
      "Les représentations Word2Vec moyennes ont été générées pour 25000 textes.\n"
     ]
    }
   ],
   "source": [
    "df_word2vec_without_tfidf_train = taa.word2vec_generator(X_train['abstractText'], model, 100)\n",
    "df_word2vec_without_tfidf_test = taa.word2vec_generator(X_test['abstractText'], model, 100)"
   ]
  },
  {
   "cell_type": "markdown",
   "metadata": {},
   "source": [
    "Colonnes : Chaque colonne représente une dimension (ou feature) dans l'espace vectoriel généré par le modèle Word2Vec. Ici le modèle utilise un vector_size=100, alors on a 100 colonnes, où chaque colonne correspond à une dimension du vecteur.\n",
    "\n",
    "Lignes : Chaque ligne correspond à un document unique dans le corpus. La valeur dans chaque cellule est la moyenne des valeurs des vecteurs des mots qui composent ce document.\n",
    "\n",
    "Valeurs : Ce sont les coordonnées du vecteur moyen pour chaque document"
   ]
  },
  {
   "cell_type": "markdown",
   "metadata": {},
   "source": [
    "#### B. Vectorisation avec TF-IDF"
   ]
  },
  {
   "cell_type": "markdown",
   "metadata": {},
   "source": [
    "La fonction tourne à l'infini, ou très très long (>30min)"
   ]
  },
  {
   "cell_type": "code",
   "execution_count": 76,
   "metadata": {},
   "outputs": [
    {
     "ename": "KeyboardInterrupt",
     "evalue": "",
     "output_type": "error",
     "traceback": [
      "\u001b[0;31m---------------------------------------------------------------------------\u001b[0m",
      "\u001b[0;31mKeyboardInterrupt\u001b[0m                         Traceback (most recent call last)",
      "Cell \u001b[0;32mIn[76], line 46\u001b[0m\n\u001b[1;32m     42\u001b[0m     df_word2vec_tfidf \u001b[38;5;241m=\u001b[39m pd\u001b[38;5;241m.\u001b[39mDataFrame(vectors)\n\u001b[1;32m     43\u001b[0m     \u001b[38;5;28;01mreturn\u001b[39;00m df_word2vec_tfidf\n\u001b[0;32m---> 46\u001b[0m df_word2vec_tfidf_train \u001b[38;5;241m=\u001b[39m \u001b[43mword2vec_with_tfidf\u001b[49m\u001b[43m(\u001b[49m\u001b[43mX_train\u001b[49m\u001b[43m[\u001b[49m\u001b[38;5;124;43m'\u001b[39;49m\u001b[38;5;124;43mabstractText\u001b[39;49m\u001b[38;5;124;43m'\u001b[39;49m\u001b[43m]\u001b[49m\u001b[43m,\u001b[49m\u001b[43m \u001b[49m\u001b[43mmodel\u001b[49m\u001b[43m,\u001b[49m\u001b[43m \u001b[49m\u001b[38;5;241;43m100\u001b[39;49m\u001b[43m)\u001b[49m\n\u001b[1;32m     47\u001b[0m df_word2vec_tfidf_test \u001b[38;5;241m=\u001b[39m word2vec_with_tfidf(X_test[\u001b[38;5;124m'\u001b[39m\u001b[38;5;124mabstractText\u001b[39m\u001b[38;5;124m'\u001b[39m], model, \u001b[38;5;241m100\u001b[39m)\n",
      "Cell \u001b[0;32mIn[76], line 29\u001b[0m, in \u001b[0;36mword2vec_with_tfidf\u001b[0;34m(texts, model, vector_size)\u001b[0m\n\u001b[1;32m     27\u001b[0m \u001b[38;5;28;01mfor\u001b[39;00m word \u001b[38;5;129;01min\u001b[39;00m word_list\u001b[38;5;241m.\u001b[39msplit():  \u001b[38;5;66;03m# Texte sous forme de chaîne\u001b[39;00m\n\u001b[1;32m     28\u001b[0m     \u001b[38;5;28;01mif\u001b[39;00m word \u001b[38;5;129;01min\u001b[39;00m feature_names:\n\u001b[0;32m---> 29\u001b[0m         word_index \u001b[38;5;241m=\u001b[39m \u001b[43mfeature_names\u001b[49m\u001b[38;5;241;43m.\u001b[39;49m\u001b[43mtolist\u001b[49m\u001b[43m(\u001b[49m\u001b[43m)\u001b[49m\u001b[38;5;241m.\u001b[39mindex(word)\n\u001b[1;32m     30\u001b[0m         tfidf_score \u001b[38;5;241m=\u001b[39m tfidf_matrix[i, word_index]  \u001b[38;5;66;03m# Accéder à l'élément de la matrice sparse\u001b[39;00m\n\u001b[1;32m     32\u001b[0m         \u001b[38;5;28;01mtry\u001b[39;00m:\n",
      "\u001b[0;31mKeyboardInterrupt\u001b[0m: "
     ]
    }
   ],
   "source": [
    "from sklearn.feature_extraction.text import TfidfVectorizer\n",
    "import numpy as np\n",
    "\n",
    "def word2vec_with_tfidf(texts, model, vector_size):\n",
    "    \"\"\"\n",
    "    Vectorise les textes en utilisant Word2Vec pondéré par TF-IDF en utilisant une matrice sparse.\n",
    "    \n",
    "    Parameters:\n",
    "    texts (list of str): Textes sous forme de chaînes.\n",
    "    model (Word2Vec): Modèle Word2Vec entraîné.\n",
    "    vector_size (int): Dimension des vecteurs Word2Vec.\n",
    "    \n",
    "    Returns:\n",
    "    pd.DataFrame: DataFrame contenant les vecteurs moyens pondérés pour chaque texte.\n",
    "    \"\"\"\n",
    "    # Calcul des scores TF-IDF\n",
    "    tfidf_vectorizer = TfidfVectorizer(tokenizer=lambda text: text.split())\n",
    "    tfidf_matrix = tfidf_vectorizer.fit_transform(texts)  # matrice sparse\n",
    "    \n",
    "    # Construction des vecteurs Word2Vec pondérés par TF-IDF\n",
    "    vectors = []\n",
    "    feature_names = tfidf_vectorizer.get_feature_names_out()\n",
    "    \n",
    "    for i, word_list in enumerate(texts):\n",
    "        arr = np.zeros(vector_size)\n",
    "        valid_words = 0\n",
    "        for word in word_list.split():  # Texte sous forme de chaîne\n",
    "            if word in feature_names:\n",
    "                word_index = feature_names.tolist().index(word)\n",
    "                tfidf_score = tfidf_matrix[i, word_index]  # Accéder à l'élément de la matrice sparse\n",
    "                \n",
    "                try:\n",
    "                    arr += model.wv[word] * tfidf_score  # Pondérer avec TF-IDF\n",
    "                    valid_words += 1\n",
    "                except KeyError:\n",
    "                    continue\n",
    "                \n",
    "        if valid_words > 0:\n",
    "            arr /= valid_words  # Moyenne pondérée des vecteurs des mots\n",
    "        vectors.append(arr)\n",
    "    \n",
    "    df_word2vec_tfidf = pd.DataFrame(vectors)\n",
    "    return df_word2vec_tfidf\n",
    "\n",
    "\n",
    "df_word2vec_tfidf_train = word2vec_with_tfidf(X_train['abstractText'], model, 100)\n",
    "df_word2vec_tfidf_test = word2vec_with_tfidf(X_test['abstractText'], model, 100)"
   ]
  },
  {
   "cell_type": "code",
   "execution_count": 71,
   "metadata": {},
   "outputs": [
    {
     "ename": "AttributeError",
     "evalue": "'csr_matrix' object has no attribute 'apply'",
     "output_type": "error",
     "traceback": [
      "\u001b[0;31m---------------------------------------------------------------------------\u001b[0m",
      "\u001b[0;31mAttributeError\u001b[0m                            Traceback (most recent call last)",
      "Cell \u001b[0;32mIn[71], line 1\u001b[0m\n\u001b[0;32m----> 1\u001b[0m df_word2vec_with_tfidf_train \u001b[38;5;241m=\u001b[39m \u001b[43mtaa\u001b[49m\u001b[38;5;241;43m.\u001b[39;49m\u001b[43mword2vec_generator\u001b[49m\u001b[43m(\u001b[49m\u001b[43mX_train_tfidf_matrix\u001b[49m\u001b[43m,\u001b[49m\u001b[43m \u001b[49m\u001b[43mmodel\u001b[49m\u001b[43m,\u001b[49m\u001b[43m \u001b[49m\u001b[38;5;241;43m100\u001b[39;49m\u001b[43m)\u001b[49m\n",
      "File \u001b[0;32m~/Documents/Etudes/Master_Bio_info/Master_2/Semestre_1/TAA/TP/TP2_MLL_NLP/function_TAA.py:763\u001b[0m, in \u001b[0;36mword2vec_generator\u001b[0;34m(text_column, model, vector_size)\u001b[0m\n\u001b[1;32m    751\u001b[0m \u001b[38;5;250m\u001b[39m\u001b[38;5;124;03m\"\"\"\u001b[39;00m\n\u001b[1;32m    752\u001b[0m \u001b[38;5;124;03mGénère des représentations Word2Vec moyennes pour une liste de textes.\u001b[39;00m\n\u001b[1;32m    753\u001b[0m \u001b[38;5;124;03m\u001b[39;00m\n\u001b[0;32m   (...)\u001b[0m\n\u001b[1;32m    760\u001b[0m \u001b[38;5;124;03mpd.DataFrame: DataFrame où chaque ligne est la moyenne des vecteurs des mots d'un texte.\u001b[39;00m\n\u001b[1;32m    761\u001b[0m \u001b[38;5;124;03m\"\"\"\u001b[39;00m\n\u001b[1;32m    762\u001b[0m \u001b[38;5;66;03m# Étape 1 : Prétraitement des données (tokenisation)\u001b[39;00m\n\u001b[0;32m--> 763\u001b[0m tokenized_texts \u001b[38;5;241m=\u001b[39m \u001b[43mtext_column\u001b[49m\u001b[38;5;241;43m.\u001b[39;49m\u001b[43mapply\u001b[49m(word_tokenize)\u001b[38;5;241m.\u001b[39mtolist()\n\u001b[1;32m    765\u001b[0m dict_word2vec \u001b[38;5;241m=\u001b[39m {}\n\u001b[1;32m    767\u001b[0m \u001b[38;5;28;01mfor\u001b[39;00m index, word_list \u001b[38;5;129;01min\u001b[39;00m \u001b[38;5;28menumerate\u001b[39m(tokenized_texts):\n",
      "\u001b[0;31mAttributeError\u001b[0m: 'csr_matrix' object has no attribute 'apply'"
     ]
    }
   ],
   "source": [
    "df_word2vec_with_tfidf_train = taa.word2vec_generator(X_train_tfidf_matrix, model, 100)"
   ]
  },
  {
   "cell_type": "code",
   "execution_count": 42,
   "metadata": {},
   "outputs": [
    {
     "ename": "ValueError",
     "evalue": "empty vocabulary; perhaps the documents only contain stop words",
     "output_type": "error",
     "traceback": [
      "\u001b[0;31m---------------------------------------------------------------------------\u001b[0m",
      "\u001b[0;31mValueError\u001b[0m                                Traceback (most recent call last)",
      "Cell \u001b[0;32mIn[42], line 7\u001b[0m\n\u001b[1;32m      3\u001b[0m \u001b[38;5;66;03m#tokenized_texts = [corpus.split() for text in corpus]\u001b[39;00m\n\u001b[1;32m      4\u001b[0m \n\u001b[1;32m      5\u001b[0m \u001b[38;5;66;03m# Calcul des scores TF-IDF\u001b[39;00m\n\u001b[1;32m      6\u001b[0m tfidf \u001b[38;5;241m=\u001b[39m TfidfVectorizer()\n\u001b[0;32m----> 7\u001b[0m \u001b[43mtfidf\u001b[49m\u001b[38;5;241;43m.\u001b[39;49m\u001b[43mfit\u001b[49m\u001b[43m(\u001b[49m\u001b[43m[\u001b[49m\u001b[38;5;124;43m\"\u001b[39;49m\u001b[38;5;124;43m \u001b[39;49m\u001b[38;5;124;43m\"\u001b[39;49m\u001b[38;5;241;43m.\u001b[39;49m\u001b[43mjoin\u001b[49m\u001b[43m(\u001b[49m\u001b[43mtext\u001b[49m\u001b[43m)\u001b[49m\u001b[43m \u001b[49m\u001b[38;5;28;43;01mfor\u001b[39;49;00m\u001b[43m \u001b[49m\u001b[43mtext\u001b[49m\u001b[43m \u001b[49m\u001b[38;5;129;43;01min\u001b[39;49;00m\u001b[43m \u001b[49m\u001b[43mcorpus\u001b[49m\u001b[43m]\u001b[49m\u001b[43m)\u001b[49m  \u001b[38;5;66;03m# Apprentissage sur les textes\u001b[39;00m\n\u001b[1;32m      8\u001b[0m tfidf_dict \u001b[38;5;241m=\u001b[39m {word: tfidf\u001b[38;5;241m.\u001b[39mvocabulary_\u001b[38;5;241m.\u001b[39mget(word, \u001b[38;5;241m0\u001b[39m) \u001b[38;5;28;01mfor\u001b[39;00m word \u001b[38;5;129;01min\u001b[39;00m tfidf\u001b[38;5;241m.\u001b[39mget_feature_names_out()}\n\u001b[1;32m     10\u001b[0m \u001b[38;5;28;01mdef\u001b[39;00m \u001b[38;5;21mword2vec_tfidf\u001b[39m(texts, model, vector_size, tfidf_dict):\n",
      "File \u001b[0;32m~/anaconda3/envs/taa_tp1/lib/python3.9/site-packages/sklearn/base.py:1389\u001b[0m, in \u001b[0;36m_fit_context.<locals>.decorator.<locals>.wrapper\u001b[0;34m(estimator, *args, **kwargs)\u001b[0m\n\u001b[1;32m   1382\u001b[0m     estimator\u001b[38;5;241m.\u001b[39m_validate_params()\n\u001b[1;32m   1384\u001b[0m \u001b[38;5;28;01mwith\u001b[39;00m config_context(\n\u001b[1;32m   1385\u001b[0m     skip_parameter_validation\u001b[38;5;241m=\u001b[39m(\n\u001b[1;32m   1386\u001b[0m         prefer_skip_nested_validation \u001b[38;5;129;01mor\u001b[39;00m global_skip_validation\n\u001b[1;32m   1387\u001b[0m     )\n\u001b[1;32m   1388\u001b[0m ):\n\u001b[0;32m-> 1389\u001b[0m     \u001b[38;5;28;01mreturn\u001b[39;00m \u001b[43mfit_method\u001b[49m\u001b[43m(\u001b[49m\u001b[43mestimator\u001b[49m\u001b[43m,\u001b[49m\u001b[43m \u001b[49m\u001b[38;5;241;43m*\u001b[39;49m\u001b[43margs\u001b[49m\u001b[43m,\u001b[49m\u001b[43m \u001b[49m\u001b[38;5;241;43m*\u001b[39;49m\u001b[38;5;241;43m*\u001b[39;49m\u001b[43mkwargs\u001b[49m\u001b[43m)\u001b[49m\n",
      "File \u001b[0;32m~/anaconda3/envs/taa_tp1/lib/python3.9/site-packages/sklearn/feature_extraction/text.py:2074\u001b[0m, in \u001b[0;36mTfidfVectorizer.fit\u001b[0;34m(self, raw_documents, y)\u001b[0m\n\u001b[1;32m   2067\u001b[0m \u001b[38;5;28mself\u001b[39m\u001b[38;5;241m.\u001b[39m_warn_for_unused_params()\n\u001b[1;32m   2068\u001b[0m \u001b[38;5;28mself\u001b[39m\u001b[38;5;241m.\u001b[39m_tfidf \u001b[38;5;241m=\u001b[39m TfidfTransformer(\n\u001b[1;32m   2069\u001b[0m     norm\u001b[38;5;241m=\u001b[39m\u001b[38;5;28mself\u001b[39m\u001b[38;5;241m.\u001b[39mnorm,\n\u001b[1;32m   2070\u001b[0m     use_idf\u001b[38;5;241m=\u001b[39m\u001b[38;5;28mself\u001b[39m\u001b[38;5;241m.\u001b[39muse_idf,\n\u001b[1;32m   2071\u001b[0m     smooth_idf\u001b[38;5;241m=\u001b[39m\u001b[38;5;28mself\u001b[39m\u001b[38;5;241m.\u001b[39msmooth_idf,\n\u001b[1;32m   2072\u001b[0m     sublinear_tf\u001b[38;5;241m=\u001b[39m\u001b[38;5;28mself\u001b[39m\u001b[38;5;241m.\u001b[39msublinear_tf,\n\u001b[1;32m   2073\u001b[0m )\n\u001b[0;32m-> 2074\u001b[0m X \u001b[38;5;241m=\u001b[39m \u001b[38;5;28;43msuper\u001b[39;49m\u001b[43m(\u001b[49m\u001b[43m)\u001b[49m\u001b[38;5;241;43m.\u001b[39;49m\u001b[43mfit_transform\u001b[49m\u001b[43m(\u001b[49m\u001b[43mraw_documents\u001b[49m\u001b[43m)\u001b[49m\n\u001b[1;32m   2075\u001b[0m \u001b[38;5;28mself\u001b[39m\u001b[38;5;241m.\u001b[39m_tfidf\u001b[38;5;241m.\u001b[39mfit(X)\n\u001b[1;32m   2076\u001b[0m \u001b[38;5;28;01mreturn\u001b[39;00m \u001b[38;5;28mself\u001b[39m\n",
      "File \u001b[0;32m~/anaconda3/envs/taa_tp1/lib/python3.9/site-packages/sklearn/base.py:1389\u001b[0m, in \u001b[0;36m_fit_context.<locals>.decorator.<locals>.wrapper\u001b[0;34m(estimator, *args, **kwargs)\u001b[0m\n\u001b[1;32m   1382\u001b[0m     estimator\u001b[38;5;241m.\u001b[39m_validate_params()\n\u001b[1;32m   1384\u001b[0m \u001b[38;5;28;01mwith\u001b[39;00m config_context(\n\u001b[1;32m   1385\u001b[0m     skip_parameter_validation\u001b[38;5;241m=\u001b[39m(\n\u001b[1;32m   1386\u001b[0m         prefer_skip_nested_validation \u001b[38;5;129;01mor\u001b[39;00m global_skip_validation\n\u001b[1;32m   1387\u001b[0m     )\n\u001b[1;32m   1388\u001b[0m ):\n\u001b[0;32m-> 1389\u001b[0m     \u001b[38;5;28;01mreturn\u001b[39;00m \u001b[43mfit_method\u001b[49m\u001b[43m(\u001b[49m\u001b[43mestimator\u001b[49m\u001b[43m,\u001b[49m\u001b[43m \u001b[49m\u001b[38;5;241;43m*\u001b[39;49m\u001b[43margs\u001b[49m\u001b[43m,\u001b[49m\u001b[43m \u001b[49m\u001b[38;5;241;43m*\u001b[39;49m\u001b[38;5;241;43m*\u001b[39;49m\u001b[43mkwargs\u001b[49m\u001b[43m)\u001b[49m\n",
      "File \u001b[0;32m~/anaconda3/envs/taa_tp1/lib/python3.9/site-packages/sklearn/feature_extraction/text.py:1376\u001b[0m, in \u001b[0;36mCountVectorizer.fit_transform\u001b[0;34m(self, raw_documents, y)\u001b[0m\n\u001b[1;32m   1368\u001b[0m             warnings\u001b[38;5;241m.\u001b[39mwarn(\n\u001b[1;32m   1369\u001b[0m                 \u001b[38;5;124m\"\u001b[39m\u001b[38;5;124mUpper case characters found in\u001b[39m\u001b[38;5;124m\"\u001b[39m\n\u001b[1;32m   1370\u001b[0m                 \u001b[38;5;124m\"\u001b[39m\u001b[38;5;124m vocabulary while \u001b[39m\u001b[38;5;124m'\u001b[39m\u001b[38;5;124mlowercase\u001b[39m\u001b[38;5;124m'\u001b[39m\u001b[38;5;124m\"\u001b[39m\n\u001b[1;32m   1371\u001b[0m                 \u001b[38;5;124m\"\u001b[39m\u001b[38;5;124m is True. These entries will not\u001b[39m\u001b[38;5;124m\"\u001b[39m\n\u001b[1;32m   1372\u001b[0m                 \u001b[38;5;124m\"\u001b[39m\u001b[38;5;124m be matched with any documents\u001b[39m\u001b[38;5;124m\"\u001b[39m\n\u001b[1;32m   1373\u001b[0m             )\n\u001b[1;32m   1374\u001b[0m             \u001b[38;5;28;01mbreak\u001b[39;00m\n\u001b[0;32m-> 1376\u001b[0m vocabulary, X \u001b[38;5;241m=\u001b[39m \u001b[38;5;28;43mself\u001b[39;49m\u001b[38;5;241;43m.\u001b[39;49m\u001b[43m_count_vocab\u001b[49m\u001b[43m(\u001b[49m\u001b[43mraw_documents\u001b[49m\u001b[43m,\u001b[49m\u001b[43m \u001b[49m\u001b[38;5;28;43mself\u001b[39;49m\u001b[38;5;241;43m.\u001b[39;49m\u001b[43mfixed_vocabulary_\u001b[49m\u001b[43m)\u001b[49m\n\u001b[1;32m   1378\u001b[0m \u001b[38;5;28;01mif\u001b[39;00m \u001b[38;5;28mself\u001b[39m\u001b[38;5;241m.\u001b[39mbinary:\n\u001b[1;32m   1379\u001b[0m     X\u001b[38;5;241m.\u001b[39mdata\u001b[38;5;241m.\u001b[39mfill(\u001b[38;5;241m1\u001b[39m)\n",
      "File \u001b[0;32m~/anaconda3/envs/taa_tp1/lib/python3.9/site-packages/sklearn/feature_extraction/text.py:1282\u001b[0m, in \u001b[0;36mCountVectorizer._count_vocab\u001b[0;34m(self, raw_documents, fixed_vocab)\u001b[0m\n\u001b[1;32m   1280\u001b[0m     vocabulary \u001b[38;5;241m=\u001b[39m \u001b[38;5;28mdict\u001b[39m(vocabulary)\n\u001b[1;32m   1281\u001b[0m     \u001b[38;5;28;01mif\u001b[39;00m \u001b[38;5;129;01mnot\u001b[39;00m vocabulary:\n\u001b[0;32m-> 1282\u001b[0m         \u001b[38;5;28;01mraise\u001b[39;00m \u001b[38;5;167;01mValueError\u001b[39;00m(\n\u001b[1;32m   1283\u001b[0m             \u001b[38;5;124m\"\u001b[39m\u001b[38;5;124mempty vocabulary; perhaps the documents only contain stop words\u001b[39m\u001b[38;5;124m\"\u001b[39m\n\u001b[1;32m   1284\u001b[0m         )\n\u001b[1;32m   1286\u001b[0m \u001b[38;5;28;01mif\u001b[39;00m indptr[\u001b[38;5;241m-\u001b[39m\u001b[38;5;241m1\u001b[39m] \u001b[38;5;241m>\u001b[39m np\u001b[38;5;241m.\u001b[39miinfo(np\u001b[38;5;241m.\u001b[39mint32)\u001b[38;5;241m.\u001b[39mmax:  \u001b[38;5;66;03m# = 2**31 - 1\u001b[39;00m\n\u001b[1;32m   1287\u001b[0m     \u001b[38;5;28;01mif\u001b[39;00m _IS_32BIT:\n",
      "\u001b[0;31mValueError\u001b[0m: empty vocabulary; perhaps the documents only contain stop words"
     ]
    }
   ],
   "source": [
    "from sklearn.feature_extraction.text import TfidfVectorizer\n",
    "\n",
    "#tokenized_texts = [corpus.split() for text in corpus]\n",
    "\n",
    "# Calcul des scores TF-IDF\n",
    "tfidf = TfidfVectorizer()\n",
    "tfidf.fit([\" \".join(text) for text in corpus])  # Apprentissage sur les textes\n",
    "tfidf_dict = {word: tfidf.vocabulary_.get(word, 0) for word in tfidf.get_feature_names_out()}\n",
    "\n",
    "def word2vec_tfidf(texts, model, vector_size, tfidf_dict):\n",
    "    dict_word2vec = {}\n",
    "    for index, word_list in enumerate(texts):\n",
    "        arr = np.zeros(vector_size)\n",
    "        total_weight = 0\n",
    "        for word in word_list:\n",
    "            try:\n",
    "                weight = tfidf_dict.get(word, 0)\n",
    "                arr += model.wv[word] * weight\n",
    "                total_weight += weight\n",
    "            except KeyError:\n",
    "                continue\n",
    "        dict_word2vec[index] = arr / total_weight if total_weight > 0 else arr\n",
    "    return pd.DataFrame(dict_word2vec).T"
   ]
  },
  {
   "cell_type": "markdown",
   "metadata": {},
   "source": [
    "Je n'arrive pas à faire du W2V avec TF-IDF !!!"
   ]
  },
  {
   "cell_type": "markdown",
   "metadata": {},
   "source": [
    "### III. Run models"
   ]
  },
  {
   "cell_type": "code",
   "execution_count": 78,
   "metadata": {},
   "outputs": [
    {
     "name": "stdout",
     "output_type": "stream",
     "text": [
      "Running MultiOutputClassifier...\n",
      "Evaluating MultiOutputClassifier...\n",
      "Classification Report:\n",
      "              precision    recall  f1-score   support\n",
      "\n",
      "           0       0.79      0.74      0.76     11641\n",
      "           1       0.95      0.99      0.97     23274\n",
      "           2       0.84      0.83      0.84     13179\n",
      "           3       0.91      0.89      0.90     15486\n",
      "           4       0.81      0.96      0.88     19629\n",
      "           5       0.81      0.62      0.70      4437\n",
      "           6       0.82      0.89      0.85     16802\n",
      "           7       0.59      0.06      0.11      3048\n",
      "           8       0.68      0.45      0.54      2839\n",
      "           9       0.68      0.28      0.39      2723\n",
      "          10       0.68      0.32      0.44      3729\n",
      "          11       0.85      0.86      0.85     10623\n",
      "          12       0.80      0.76      0.78     11447\n",
      "          13       0.74      0.57      0.65      4024\n",
      "\n",
      "   micro avg       0.84      0.82      0.83    142881\n",
      "   macro avg       0.78      0.66      0.69    142881\n",
      "weighted avg       0.83      0.82      0.81    142881\n",
      " samples avg       0.85      0.83      0.82    142881\n",
      "\n",
      "\n",
      "Running ClassifierChain...\n",
      "Evaluating ClassifierChain...\n",
      "Classification Report:\n",
      "              precision    recall  f1-score   support\n",
      "\n",
      "           0       0.76      0.76      0.76     11641\n",
      "           1       0.96      0.98      0.97     23274\n",
      "           2       0.83      0.84      0.83     13179\n",
      "           3       0.89      0.89      0.89     15486\n",
      "           4       0.82      0.92      0.86     19629\n",
      "           5       0.76      0.65      0.70      4437\n",
      "           6       0.82      0.86      0.84     16802\n",
      "           7       0.44      0.18      0.25      3048\n",
      "           8       0.63      0.51      0.56      2839\n",
      "           9       0.59      0.36      0.45      2723\n",
      "          10       0.60      0.42      0.50      3729\n",
      "          11       0.83      0.88      0.85     10623\n",
      "          12       0.74      0.79      0.76     11447\n",
      "          13       0.67      0.61      0.64      4024\n",
      "\n",
      "   micro avg       0.82      0.82      0.82    142881\n",
      "   macro avg       0.74      0.69      0.70    142881\n",
      "weighted avg       0.81      0.82      0.81    142881\n",
      " samples avg       0.83      0.83      0.81    142881\n",
      "\n",
      "\n",
      "Results Summary:\n",
      "MultiOutputClassifier Metrics: {'micro-F1': 0.8295847627724238, 'macro-F1': 0.6906089721607224, 'zero-one-loss': 0.8668}\n",
      "ClassifierChain Metrics: {'micro-F1': 0.8208462664919668, 'macro-F1': 0.7049407977703358, 'zero-one-loss': 0.88088}\n"
     ]
    },
    {
     "data": {
      "text/plain": [
       "{'MOC': {'micro-F1': 0.8295847627724238,\n",
       "  'macro-F1': 0.6906089721607224,\n",
       "  'zero-one-loss': 0.8668},\n",
       " 'ECC': {'micro-F1': 0.8208462664919668,\n",
       "  'macro-F1': 0.7049407977703358,\n",
       "  'zero-one-loss': 0.88088}}"
      ]
     },
     "execution_count": 78,
     "metadata": {},
     "output_type": "execute_result"
    }
   ],
   "source": [
    "taa.run_models(df_word2vec_without_tfidf_train, df_word2vec_without_tfidf_test, y_train, y_test)"
   ]
  },
  {
   "cell_type": "markdown",
   "metadata": {},
   "source": [
    "À comparer avec les résultats du modèle W2V pour les données vectorisés avec TF-IDF (mais pour l'instant ça ne marche pas !!!)"
   ]
  },
  {
   "cell_type": "markdown",
   "metadata": {},
   "source": [
    "### V. Modèle Word2Vec pré-entrainé de Google"
   ]
  },
  {
   "cell_type": "markdown",
   "metadata": {},
   "source": [
    "#### A. Charger le modèle"
   ]
  },
  {
   "cell_type": "code",
   "execution_count": 8,
   "metadata": {},
   "outputs": [
    {
     "name": "stdout",
     "output_type": "stream",
     "text": [
      "True\n",
      "[ 0.12597656  0.02978516  0.00860596  0.13964844 -0.02563477 -0.03613281\n",
      "  0.11181641 -0.19824219  0.05126953  0.36328125 -0.2421875  -0.30273438\n",
      " -0.17773438 -0.02490234 -0.16796875 -0.16992188  0.03466797  0.00521851\n",
      "  0.04638672  0.12890625  0.13671875  0.11279297  0.05957031  0.13671875\n",
      "  0.10107422 -0.17675781 -0.25195312  0.05981445  0.34179688 -0.03112793\n",
      "  0.10449219  0.06176758  0.12451172  0.40039062 -0.32226562  0.08398438\n",
      "  0.0390625   0.00585938  0.0703125   0.17285156  0.13867188 -0.23144531\n",
      "  0.28320312  0.14257812  0.34179688 -0.02392578 -0.10986328  0.03320312\n",
      " -0.0546875   0.01531982 -0.16210938  0.15820312 -0.25976562  0.0201416\n",
      " -0.16308594  0.00135803 -0.14453125 -0.05688477  0.04296875 -0.0246582\n",
      "  0.18554688  0.44726562  0.00958252  0.13183594  0.09863281 -0.18554688\n",
      " -0.10009766 -0.13378906 -0.125       0.28320312  0.12304688  0.05322266\n",
      " -0.17773438  0.0859375  -0.02185059  0.02050781 -0.13964844  0.02514648\n",
      "  0.13867188 -0.10546875  0.13867188  0.08886719 -0.07519531 -0.0213623\n",
      "  0.17285156  0.04638672 -0.265625    0.00891113  0.14941406  0.0378418\n",
      "  0.23828125 -0.12451172 -0.21777344 -0.18164062  0.02978516  0.05712891\n",
      " -0.02893066  0.01245117  0.09667969 -0.23144531  0.05810547  0.06689453\n",
      "  0.07080078 -0.30859375 -0.21484375  0.14550781 -0.42773438 -0.00939941\n",
      "  0.15429688 -0.07666016  0.2890625   0.27734375 -0.00048637 -0.13671875\n",
      "  0.32421875 -0.24609375 -0.0030365  -0.21191406  0.125       0.26953125\n",
      "  0.20410156  0.08251953 -0.20117188 -0.16015625 -0.0378418  -0.12011719\n",
      "  0.11523438 -0.04101562 -0.03955078 -0.08984375  0.00634766  0.203125\n",
      "  0.18652344  0.2734375   0.06298828  0.14160156 -0.09814453  0.13867188\n",
      "  0.18261719  0.17382812  0.17382812 -0.23730469  0.17871094  0.06347656\n",
      "  0.23632812 -0.20898438  0.08740234 -0.16601562 -0.07910156  0.24316406\n",
      " -0.08886719  0.12695312 -0.21679688 -0.17382812 -0.359375   -0.08251953\n",
      " -0.06494141  0.05078125  0.13574219 -0.07470703 -0.1640625   0.01153564\n",
      "  0.4453125  -0.21582031 -0.11132812 -0.19238281  0.17089844 -0.125\n",
      "  0.00265503  0.19238281 -0.17480469  0.13964844  0.29296875  0.11328125\n",
      "  0.05957031 -0.06396484  0.09960938 -0.02722168  0.01965332  0.04272461\n",
      " -0.24609375  0.06396484 -0.22558594 -0.16894531  0.00289917  0.08203125\n",
      "  0.34179688  0.04321289  0.1328125   0.14257812  0.07617188  0.05981445\n",
      " -0.11914062  0.00274658 -0.06298828 -0.02722168 -0.00482178 -0.08203125\n",
      " -0.02490234 -0.40039062 -0.10693359  0.04248047  0.07763672 -0.11669922\n",
      "  0.07373047 -0.09228516  0.10791016  0.15820312  0.04248047  0.12695312\n",
      "  0.03613281  0.26757812 -0.10107422 -0.30273438 -0.05761719  0.05053711\n",
      "  0.00052643 -0.20703125 -0.13867188 -0.00897217 -0.02783203 -0.14160156\n",
      "  0.20703125 -0.15820312  0.12792969  0.14941406 -0.02246094 -0.08447266\n",
      "  0.12255859  0.21582031 -0.21386719 -0.3125     -0.37304688  0.00408936\n",
      "  0.10742188  0.10693359  0.07324219  0.00897217 -0.03881836 -0.12988281\n",
      "  0.14941406 -0.21484375 -0.00183868  0.09912109  0.15722656 -0.11425781\n",
      " -0.20507812  0.09912109  0.36914062 -0.19726562  0.03540039  0.109375\n",
      "  0.13183594  0.16699219  0.23535156  0.10498047 -0.49609375 -0.1640625\n",
      " -0.15625    -0.05224609  0.10302734  0.24316406 -0.18847656  0.05078125\n",
      " -0.09375    -0.06689453  0.02270508  0.07617188  0.2890625   0.31054688\n",
      " -0.05371094  0.22851562  0.02514648  0.06787109 -0.12109375 -0.21582031\n",
      " -0.2734375  -0.03076172 -0.33789062  0.15332031  0.23339844 -0.20800781\n",
      "  0.37304688  0.08203125  0.25195312 -0.07617188 -0.04663086 -0.02233887\n",
      "  0.02990723 -0.05932617 -0.00466919 -0.24414062 -0.20996094 -0.28710938\n",
      " -0.04541016 -0.17773438 -0.27929688 -0.0859375   0.09130859  0.25195312]\n"
     ]
    }
   ],
   "source": [
    "from gensim.models import KeyedVectors\n",
    "\n",
    "# Charger le fichier Word2Vec pré-entraîné\n",
    "file_path = 'GoogleNews-vectors-negative300.bin'\n",
    "model = KeyedVectors.load_word2vec_format(file_path, binary=True)\n",
    "\n",
    "# Vérifier si un mot existe dans le modèle\n",
    "print(\"king\" in model.key_to_index) # Affiche True si le mot \"king\" est présent dans le modèle\n",
    "\n",
    "# Accéder au vecteur d'un mot\n",
    "print(model[\"king\"])  # Affiche le vecteur associé au mot \"king\"\n"
   ]
  },
  {
   "cell_type": "code",
   "execution_count": 82,
   "metadata": {},
   "outputs": [
    {
     "data": {
      "text/plain": [
       "3000000"
      ]
     },
     "execution_count": 82,
     "metadata": {},
     "output_type": "execute_result"
    }
   ],
   "source": [
    "# nombre total de mots ou tokens uniques qui ont été appris par le modèle Word2Vec\n",
    "len(model.index_to_key)"
   ]
  },
  {
   "cell_type": "code",
   "execution_count": 9,
   "metadata": {},
   "outputs": [
    {
     "data": {
      "image/png": "[encoded data removed]",
      "text/plain": [
       "<Figure size 2000x300 with 2 Axes>"
      ]
     },
     "metadata": {},
     "output_type": "display_data"
    }
   ],
   "source": [
    "import matplotlib.pyplot as plt\n",
    "import seaborn as sns\n",
    "\n",
    "words = ['surgeon', 'nurse', 'boy']\n",
    "\n",
    "def plot_W2V_heatmap(model, words, cmap='YlGnBu', figsize_per_vector=(20, 1)):\n",
    "    \"\"\"\n",
    "    Plot a heatmap for Word2Vec vectors.\n",
    "    \n",
    "    Parameters:\n",
    "    model (gensim.models.Word2Vec): Trained Word2Vec model.\n",
    "    words (list of str): List of words to plot.\n",
    "    cmap (str, optional): Colormap for the heatmap. Default is 'YlGnBu'.\n",
    "    figsize_per_vector (tuple, optional): Tuple specifying figure size per vector. Default is (20, 1).\n",
    "    \"\"\"\n",
    "    # Extract vectors for the given words\n",
    "    vectors = [model[word] for word in words]\n",
    "\n",
    "    # Ensure vectors are in 2D format\n",
    "    num_vectors = len(vectors)\n",
    "    fig_height = figsize_per_vector[1] * num_vectors\n",
    "    fig_width = figsize_per_vector[0]\n",
    "    \n",
    "    # Plot the heatmap\n",
    "    fig, ax = plt.subplots(figsize=(fig_width, fig_height))\n",
    "    sns.heatmap(vectors, cmap=cmap, cbar=True, ax=ax, xticklabels=False)\n",
    "    \n",
    "    # Set y-ticks with labels for words\n",
    "    ax.set_yticks([i + 0.5 for i in range(num_vectors)])\n",
    "    ax.set_yticklabels(words)\n",
    "    \n",
    "    ax.set_ylabel(\"Words\")\n",
    "    plt.title(\"Word2Vec Heatmap\")\n",
    "    plt.show()\n",
    "    \n",
    "plot_W2V_heatmap(model, words=words)"
   ]
  },
  {
   "cell_type": "markdown",
   "metadata": {},
   "source": [
    "Le modèle Word2Vec pré-entrainé de Google est bien chargé"
   ]
  },
  {
   "cell_type": "markdown",
   "metadata": {},
   "source": [
    "#### B. Vectorisation"
   ]
  },
  {
   "cell_type": "code",
   "execution_count": 11,
   "metadata": {},
   "outputs": [
    {
     "name": "stdout",
     "output_type": "stream",
     "text": [
      "Les représentations Word2Vec moyennes ont été générées pour 25000 textes.\n",
      "Les représentations Word2Vec moyennes ont été générées pour 25000 textes.\n"
     ]
    }
   ],
   "source": [
    "from nltk.tokenize import word_tokenize\n",
    "import pandas as pd\n",
    "import numpy as np\n",
    "\n",
    "def word2vec_generator(text_column, model, vector_size=100):\n",
    "    \"\"\"\n",
    "    Génère des représentations Word2Vec moyennes pour une liste de textes.\n",
    "    \n",
    "    Parameters:\n",
    "    texts (list of list[str]): Liste de listes de mots.\n",
    "    model (gensim.models.Word2Vec): Modèle Word2Vec.\n",
    "    vector_size (int): Taille des vecteurs du modèle Word2Vec.\n",
    "    \n",
    "    Returns:\n",
    "    pd.DataFrame: DataFrame où chaque ligne est la moyenne des vecteurs des mots d'un texte.\n",
    "    \"\"\"\n",
    "    # Étape 1 : Prétraitement des données (tokenisation)\n",
    "    tokenized_texts = text_column.apply(word_tokenize).tolist()\n",
    "\n",
    "    dict_word2vec = {}\n",
    "    \n",
    "    for index, word_list in enumerate(tokenized_texts):\n",
    "        arr = np.zeros(vector_size)  # Initialisation du vecteur de taille `vector_size`\n",
    "        nb_word = 0\n",
    "        \n",
    "        for word in word_list:\n",
    "            try:\n",
    "                arr += model[word]  # Accès correct au vecteur\n",
    "                nb_word += 1\n",
    "            except KeyError:\n",
    "                continue  # Ignore les mots absents du vocabulaire\n",
    "        \n",
    "        # Ajout du vecteur normalisé dans le dictionnaire\n",
    "        dict_word2vec[index] = arr / nb_word if nb_word > 0 else arr\n",
    "    \n",
    "    # Conversion du dictionnaire en DataFrame\n",
    "    df_word2vec = pd.DataFrame.from_dict(dict_word2vec, orient='index')\n",
    "    \n",
    "    print(f\"Les représentations Word2Vec moyennes ont été générées pour {len(tokenized_texts)} textes.\")\n",
    "\n",
    "    return df_word2vec\n",
    "\n",
    "df_word2vec_without_tfidf_train = word2vec_generator(X_train['abstractText'], model, 300)\n",
    "df_word2vec_without_tfidf_test = word2vec_generator(X_test['abstractText'], model, 300)"
   ]
  },
  {
   "cell_type": "markdown",
   "metadata": {},
   "source": [
    "#### C. Run pipelines"
   ]
  },
  {
   "cell_type": "code",
   "execution_count": 12,
   "metadata": {},
   "outputs": [
    {
     "name": "stdout",
     "output_type": "stream",
     "text": [
      "Running MultiOutputClassifier...\n",
      "Evaluating MultiOutputClassifier...\n",
      "Classification Report:\n",
      "              precision    recall  f1-score   support\n",
      "\n",
      "           0       0.79      0.74      0.76     11641\n",
      "           1       0.95      0.99      0.97     23274\n",
      "           2       0.85      0.83      0.84     13179\n",
      "           3       0.91      0.90      0.90     15486\n",
      "           4       0.81      0.96      0.88     19629\n",
      "           5       0.82      0.62      0.71      4437\n",
      "           6       0.82      0.89      0.85     16802\n",
      "           7       0.62      0.07      0.13      3048\n",
      "           8       0.71      0.45      0.55      2839\n",
      "           9       0.71      0.28      0.40      2723\n",
      "          10       0.70      0.31      0.43      3729\n",
      "          11       0.85      0.86      0.86     10623\n",
      "          12       0.79      0.77      0.78     11447\n",
      "          13       0.76      0.57      0.65      4024\n",
      "\n",
      "   micro avg       0.85      0.82      0.83    142881\n",
      "   macro avg       0.79      0.66      0.69    142881\n",
      "weighted avg       0.84      0.82      0.82    142881\n",
      " samples avg       0.85      0.83      0.82    142881\n",
      "\n",
      "\n",
      "Running ClassifierChain...\n",
      "Evaluating ClassifierChain...\n",
      "Classification Report:\n",
      "              precision    recall  f1-score   support\n",
      "\n",
      "           0       0.74      0.76      0.75     11641\n",
      "           1       0.96      0.98      0.97     23274\n",
      "           2       0.81      0.85      0.83     13179\n",
      "           3       0.88      0.90      0.89     15486\n",
      "           4       0.81      0.94      0.87     19629\n",
      "           5       0.76      0.60      0.67      4437\n",
      "           6       0.81      0.87      0.84     16802\n",
      "           7       0.43      0.15      0.22      3048\n",
      "           8       0.66      0.49      0.56      2839\n",
      "           9       0.64      0.31      0.42      2723\n",
      "          10       0.57      0.40      0.47      3729\n",
      "          11       0.82      0.88      0.85     10623\n",
      "          12       0.73      0.80      0.76     11447\n",
      "          13       0.65      0.55      0.60      4024\n",
      "\n",
      "   micro avg       0.82      0.82      0.82    142881\n",
      "   macro avg       0.73      0.68      0.69    142881\n",
      "weighted avg       0.80      0.82      0.81    142881\n",
      " samples avg       0.82      0.83      0.81    142881\n",
      "\n",
      "\n",
      "Results Summary:\n",
      "MultiOutputClassifier Metrics: {'micro-F1': 0.8313752862286197, 'macro-F1': 0.6940577266239742, 'zero-one-loss': 0.86632}\n",
      "ClassifierChain Metrics: {'micro-F1': 0.8187333814248327, 'macro-F1': 0.6934683537438865, 'zero-one-loss': 0.88588}\n"
     ]
    },
    {
     "data": {
      "text/plain": [
       "{'MOC': {'micro-F1': 0.8313752862286197,\n",
       "  'macro-F1': 0.6940577266239742,\n",
       "  'zero-one-loss': 0.86632},\n",
       " 'ECC': {'micro-F1': 0.8187333814248327,\n",
       "  'macro-F1': 0.6934683537438865,\n",
       "  'zero-one-loss': 0.88588}}"
      ]
     },
     "execution_count": 12,
     "metadata": {},
     "output_type": "execute_result"
    }
   ],
   "source": [
    "taa.run_models(df_word2vec_without_tfidf_train, df_word2vec_without_tfidf_test, y_train, y_test)"
   ]
  },
  {
   "cell_type": "markdown",
   "metadata": {},
   "source": [
    "À comparer avec les résultats du modèle W2V pour les données vectorisés avec TF-IDF (mais pour l'instant ça ne marche pas !!!)"
   ]
  }
 ],
 "metadata": {
  "kernelspec": {
   "display_name": "taa_tp1",
   "language": "python",
   "name": "python3"
  },
  "language_info": {
   "codemirror_mode": {
    "name": "ipython",
    "version": 3
   },
   "file_extension": ".py",
   "mimetype": "text/x-python",
   "name": "python",
   "nbconvert_exporter": "python",
   "pygments_lexer": "ipython3",
   "version": "3.9.21"
  }
 },
 "nbformat": 4,
 "nbformat_minor": 2
}
