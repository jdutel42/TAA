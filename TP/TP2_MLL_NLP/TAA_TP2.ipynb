{
 "cells": [
  {
   "cell_type": "markdown",
   "metadata": {},
   "source": [
    "# TP2 : Apprentissage multi-label sur des données textuelles\n",
    "\n",
    "*Jordan Dutel et Ariane Paradan*\n",
    "\n",
    "---\n",
    "---"
   ]
  },
  {
   "cell_type": "markdown",
   "metadata": {},
   "source": [
    "## I. Import des librairies"
   ]
  },
  {
   "cell_type": "code",
   "execution_count": 3,
   "metadata": {},
   "outputs": [
    {
     "data": {
      "text/plain": [
       "<module 'function_TAA' from '/home/jordan/Documents/Etudes/Master_Bio_info/Master_2/Semestre_1/TAA/TP/TP2_MLL_NLP/function_TAA.py'>"
      ]
     },
     "execution_count": 3,
     "metadata": {},
     "output_type": "execute_result"
    }
   ],
   "source": [
    "import importlib\n",
    "import function_TAA as taa\n",
    "importlib.reload(taa)"
   ]
  },
  {
   "cell_type": "markdown",
   "metadata": {},
   "source": [
    "## II. Load data"
   ]
  },
  {
   "cell_type": "code",
   "execution_count": 5,
   "metadata": {},
   "outputs": [
    {
     "name": "stdout",
     "output_type": "stream",
     "text": [
      "                                                   Title  \\\n",
      "0      Expression of p53 and coexistence of HPV in pr...   \n",
      "1      Vitamin D status in pregnant Indian women acro...   \n",
      "2      [Identification of a functionally important di...   \n",
      "3      Multilayer capsules: a promising microencapsul...   \n",
      "4      Nanohydrogel with N,N'-bis(acryloyl)cystine cr...   \n",
      "...                                                  ...   \n",
      "49995  Five donors-one recipient: modeling a mosaic o...   \n",
      "49996  The role of eicosanoids in cyclosporine nephro...   \n",
      "49997  Impact of pancreaticoduodenal arcade dilation ...   \n",
      "49998  Outcomes of Preterm Infants following Discussi...   \n",
      "49999  Molecular subtyping of Borrelia burgdorferi se...   \n",
      "\n",
      "                                            abstractText  \\\n",
      "0      Fifty-four paraffin embedded tissue sections f...   \n",
      "1      The present cross-sectional study was conducte...   \n",
      "2      The occurrence of individual amino acids and d...   \n",
      "3      In 1980, Lim and Sun introduced a microcapsule...   \n",
      "4      Substantially improved hydrogel particles base...   \n",
      "...                                                  ...   \n",
      "49995  BACKGROUND: A 21-year-old man was admitted to ...   \n",
      "49996  Nephrotoxicity is the most troublesome complic...   \n",
      "49997  BACKGROUND: The aim of this study was to inves...   \n",
      "49998  OBJECTIVES: To describe the frequency of postn...   \n",
      "49999  Solitary lymphocytoma is a rare cutaneous mani...   \n",
      "\n",
      "                                               meshMajor      pmid  \\\n",
      "0      ['DNA Probes, HPV', 'DNA, Viral', 'Female', 'H...   8549602   \n",
      "1      ['Adult', 'Alkaline Phosphatase', 'Breast Feed...  21736816   \n",
      "2      ['Amino Acid Sequence', 'Analgesics, Opioid', ...  19060934   \n",
      "3      ['Acrylic Resins', 'Alginates', 'Animals', 'Bi...  11426874   \n",
      "4      ['Antineoplastic Agents', 'Cell Proliferation'...  28323099   \n",
      "...                                                  ...       ...   \n",
      "49995  ['Adult', 'Cell Transplantation', 'Cord Blood ...  18364724   \n",
      "49996  ['Animals', 'Cyclosporins', 'In Vitro Techniqu...   2735953   \n",
      "49997  ['Adult', 'Aged', 'Aged, 80 and over', 'Dilata...  28919282   \n",
      "49998  ['Decision Making', 'Female', 'Humans', 'Infan...  28647272   \n",
      "49999  ['Adult', 'Aged', 'Antigens, Surface', 'Bacter...   8980295   \n",
      "\n",
      "                                                  meshid  \\\n",
      "0      [['D13.444.600.223.555', 'D27.505.259.750.600....   \n",
      "1      [['M01.060.116'], ['D08.811.277.352.650.035'],...   \n",
      "2      [['G02.111.570.060', 'L01.453.245.667.060'], [...   \n",
      "3      [['D05.750.716.822.111', 'D25.720.716.822.111'...   \n",
      "4      [['D27.505.954.248'], ['G04.161.750', 'G07.345...   \n",
      "...                                                  ...   \n",
      "49995  [['M01.060.116'], ['E02.095.147.500', 'E04.936...   \n",
      "49996  [['B01.050'], ['D04.345.566.235', 'D12.644.641...   \n",
      "49997  [['M01.060.116'], ['M01.060.116.100'], ['M01.0...   \n",
      "49998  [['F02.463.785.373'], ['B01.050.150.900.649.31...   \n",
      "49999  [['M01.060.116'], ['M01.060.116.100'], ['D23.0...   \n",
      "\n",
      "                                                meshroot  A  B  C  D  E  F  G  \\\n",
      "0      ['Chemicals and Drugs [D]', 'Organisms [B]', '...  0  1  1  1  1  0  0   \n",
      "1      ['Named Groups [M]', 'Chemicals and Drugs [D]'...  0  1  1  1  1  1  1   \n",
      "2      ['Phenomena and Processes [G]', 'Information S...  1  1  0  1  1  0  1   \n",
      "3      ['Chemicals and Drugs [D]', 'Technology, Indus...  1  1  1  1  1  0  1   \n",
      "4      ['Chemicals and Drugs [D]', 'Phenomena and Pro...  1  1  0  1  1  0  1   \n",
      "...                                                  ... .. .. .. .. .. .. ..   \n",
      "49995  ['Named Groups [M]', 'Analytical, Diagnostic a...  1  1  1  0  1  0  1   \n",
      "49996  ['Organisms [B]', 'Chemicals and Drugs [D]', '...  1  1  0  1  1  0  0   \n",
      "49997  ['Named Groups [M]', 'Diseases [C]', 'Anatomy ...  1  1  1  0  1  0  0   \n",
      "49998  ['Psychiatry and Psychology [F]', 'Organisms [...  0  1  0  0  1  1  0   \n",
      "49999  ['Named Groups [M]', 'Chemicals and Drugs [D]'...  1  1  1  1  1  0  1   \n",
      "\n",
      "       H  I  J  L  M  N  Z  \n",
      "0      1  0  0  0  0  0  0  \n",
      "1      0  1  1  0  1  1  1  \n",
      "2      0  0  0  1  0  0  0  \n",
      "3      0  0  1  0  0  0  0  \n",
      "4      0  0  1  0  0  0  0  \n",
      "...   .. .. .. .. .. .. ..  \n",
      "49995  0  0  0  0  1  0  0  \n",
      "49996  0  0  0  0  0  0  0  \n",
      "49997  0  0  0  0  1  1  0  \n",
      "49998  1  0  0  0  1  1  0  \n",
      "49999  0  0  0  0  1  0  1  \n",
      "\n",
      "[50000 rows x 20 columns]\n"
     ]
    }
   ],
   "source": [
    "df = taa.load_data('PubMed-multi-label-dataset.csv', sep=',')"
   ]
  },
  {
   "cell_type": "markdown",
   "metadata": {},
   "source": [
    "## III. Pre-processing"
   ]
  },
  {
   "cell_type": "markdown",
   "metadata": {},
   "source": [
    "### A. Data infos"
   ]
  },
  {
   "cell_type": "code",
   "execution_count": null,
   "metadata": {},
   "outputs": [],
   "source": [
    "taa.get_info(df)"
   ]
  },
  {
   "cell_type": "markdown",
   "metadata": {},
   "source": [
    "### B. Data cleaning"
   ]
  },
  {
   "cell_type": "markdown",
   "metadata": {},
   "source": [
    "La fonction est longue à faire tourner (~4 min)"
   ]
  },
  {
   "cell_type": "code",
   "execution_count": 6,
   "metadata": {},
   "outputs": [],
   "source": [
    "df = taa.clean_text(df, 'abstractText')"
   ]
  },
  {
   "cell_type": "markdown",
   "metadata": {},
   "source": [
    "### C. Features and labels split"
   ]
  },
  {
   "cell_type": "code",
   "execution_count": 7,
   "metadata": {},
   "outputs": [
    {
     "name": "stdout",
     "output_type": "stream",
     "text": [
      "Les features sont dans le dataframe X (50000 lignes, 6 colonnes).\n",
      "La target est dans le dataframe y (50000 lignes, 14 colonnes).\n"
     ]
    }
   ],
   "source": [
    "target_column = ['A', 'B', 'C', 'D', 'E', 'F', 'G', 'H', 'I', 'J', 'L', 'M', 'N', 'Z']\n",
    "X, y = taa.split_feature_label(df, target_column, multilabel=True)"
   ]
  },
  {
   "cell_type": "markdown",
   "metadata": {},
   "source": [
    "### D. Split train test"
   ]
  },
  {
   "cell_type": "code",
   "execution_count": 8,
   "metadata": {},
   "outputs": [
    {
     "name": "stdout",
     "output_type": "stream",
     "text": [
      "Le dataset a été divisé en training et testing sets avec 50.0% des données dans le testing set.\n",
      "X_train : 25000 lignes, 6 colonnes (features)\n",
      "X_test : 25000 lignes, 6 colonnes (features)\n",
      "y_train : 25000 lignes, 14 colonnes (labels)\n",
      "y_test : 25000 lignes, 14 colonnes (labels)\n"
     ]
    }
   ],
   "source": [
    "X_train, X_test, y_train, y_test = taa.split_train_test(X, y, test_size=0.5, random_state=42)"
   ]
  },
  {
   "cell_type": "code",
   "execution_count": 8,
   "metadata": {},
   "outputs": [
    {
     "data": {
      "text/plain": [
       "pandas.core.series.Series"
      ]
     },
     "execution_count": 8,
     "metadata": {},
     "output_type": "execute_result"
    }
   ],
   "source": [
    "type(X_train['abstractText'])\n"
   ]
  },
  {
   "cell_type": "code",
   "execution_count": 9,
   "metadata": {},
   "outputs": [
    {
     "data": {
      "text/html": [
       "<div>\n",
       "<style scoped>\n",
       "    .dataframe tbody tr th:only-of-type {\n",
       "        vertical-align: middle;\n",
       "    }\n",
       "\n",
       "    .dataframe tbody tr th {\n",
       "        vertical-align: top;\n",
       "    }\n",
       "\n",
       "    .dataframe thead th {\n",
       "        text-align: right;\n",
       "    }\n",
       "</style>\n",
       "<table border=\"1\" class=\"dataframe\">\n",
       "  <thead>\n",
       "    <tr style=\"text-align: right;\">\n",
       "      <th></th>\n",
       "      <th>Title</th>\n",
       "      <th>abstractText</th>\n",
       "      <th>meshMajor</th>\n",
       "      <th>pmid</th>\n",
       "      <th>meshid</th>\n",
       "      <th>meshroot</th>\n",
       "    </tr>\n",
       "  </thead>\n",
       "  <tbody>\n",
       "    <tr>\n",
       "      <th>25858</th>\n",
       "      <td>laparoscopic cholecystectomy in patients admit...</td>\n",
       "      <td>laparoscopic cholecystectomy become standard c...</td>\n",
       "      <td>acute disease adolescent adult aged cholangiog...</td>\n",
       "      <td>8368442</td>\n",
       "      <td>c m m m e e e e c c n n e e n n b m c e e n n ...</td>\n",
       "      <td>diseases c named groups m analytical diagnosti...</td>\n",
       "    </tr>\n",
       "    <tr>\n",
       "      <th>10784</th>\n",
       "      <td>atomic decomposition of the protein solvation ...</td>\n",
       "      <td>report development atomic decomposition method...</td>\n",
       "      <td>amyloid betapeptides models molecular molecula...</td>\n",
       "      <td>21787012</td>\n",
       "      <td>d d d e e g l g g g d d d</td>\n",
       "      <td>chemicals and drugs d analytical diagnostic an...</td>\n",
       "    </tr>\n",
       "    <tr>\n",
       "      <th>24807</th>\n",
       "      <td>antianxiety activity of successive extracts of...</td>\n",
       "      <td>objective angelica archangelica linn widely us...</td>\n",
       "      <td>angelica archangelica animals antianxiety agen...</td>\n",
       "      <td>23297567</td>\n",
       "      <td>b b d d d f b f f g d d b b g g i i</td>\n",
       "      <td>organisms b chemicals and drugs d psychiatry a...</td>\n",
       "    </tr>\n",
       "    <tr>\n",
       "      <th>49534</th>\n",
       "      <td>flesinoxan challenge suggests that chronic tre...</td>\n",
       "      <td>proposed desensitization hta hydroxytryptamine...</td>\n",
       "      <td>animals antidepressive agents secondgeneration...</td>\n",
       "      <td>18786747</td>\n",
       "      <td>b d e e e e g g a f g g g e g d d b b d d d d ...</td>\n",
       "      <td>organisms b chemicals and drugs d analytical d...</td>\n",
       "    </tr>\n",
       "    <tr>\n",
       "      <th>3345</th>\n",
       "      <td>diabetes on twitter a sentiment analysis</td>\n",
       "      <td>background contents published social media imp...</td>\n",
       "      <td>algorithms data accuracy diabetes mellitus emo...</td>\n",
       "      <td>30453762</td>\n",
       "      <td>g l e e l n n c c f f n b l f f f f e e n n l l</td>\n",
       "      <td>phenomena and processes g information science ...</td>\n",
       "    </tr>\n",
       "    <tr>\n",
       "      <th>...</th>\n",
       "      <td>...</td>\n",
       "      <td>...</td>\n",
       "      <td>...</td>\n",
       "      <td>...</td>\n",
       "      <td>...</td>\n",
       "      <td>...</td>\n",
       "    </tr>\n",
       "    <tr>\n",
       "      <th>11284</th>\n",
       "      <td>the effects on synovial permeability and synov...</td>\n",
       "      <td>mode action intraarticularly administered cort...</td>\n",
       "      <td>adrenal cortex hormones cell membrane permeabi...</td>\n",
       "      <td>7097677</td>\n",
       "      <td>d g g b e e e e e e g g m c c a a a</td>\n",
       "      <td>chemicals and drugs d phenomena and processes ...</td>\n",
       "    </tr>\n",
       "    <tr>\n",
       "      <th>44732</th>\n",
       "      <td>characteristics of the mitotic cycle of cells ...</td>\n",
       "      <td>authors studied growth peculiarities ascitic h...</td>\n",
       "      <td>animals cell cycle liver neoplasms experimenta...</td>\n",
       "      <td>708878</td>\n",
       "      <td>b g c c c c e b b b e e e d d d</td>\n",
       "      <td>organisms b phenomena and processes g diseases...</td>\n",
       "    </tr>\n",
       "    <tr>\n",
       "      <th>38158</th>\n",
       "      <td>initial learning curve for robotassisted parti...</td>\n",
       "      <td>introduction objective study evaluate initial ...</td>\n",
       "      <td>adult aged aged  and over clinical competence ...</td>\n",
       "      <td>30689309</td>\n",
       "      <td>m m m i n n b c c c c c f m e e j m n</td>\n",
       "      <td>named groups m anthropology education sociolog...</td>\n",
       "    </tr>\n",
       "    <tr>\n",
       "      <th>860</th>\n",
       "      <td>action of fatty acids on the exocrine pancreat...</td>\n",
       "      <td>existence delayed inhibition secretion protein...</td>\n",
       "      <td>animals butyrates caprylates fatty acids gluco...</td>\n",
       "      <td>633115</td>\n",
       "      <td>b d d d d d d d g a a d b g d</td>\n",
       "      <td>organisms b chemicals and drugs d phenomena an...</td>\n",
       "    </tr>\n",
       "    <tr>\n",
       "      <th>15795</th>\n",
       "      <td>detection of metallobetalactamase in pseudomon...</td>\n",
       "      <td>pseudomonas aeruginosa bacterium frequently is...</td>\n",
       "      <td>antibacterial agents brazil cross infection di...</td>\n",
       "      <td>19802477</td>\n",
       "      <td>d z c c e e g g g g b g e c b b d</td>\n",
       "      <td>chemicals and drugs d geographicals z diseases...</td>\n",
       "    </tr>\n",
       "  </tbody>\n",
       "</table>\n",
       "<p>25000 rows × 6 columns</p>\n",
       "</div>"
      ],
      "text/plain": [
       "                                                   Title  \\\n",
       "25858  laparoscopic cholecystectomy in patients admit...   \n",
       "10784  atomic decomposition of the protein solvation ...   \n",
       "24807  antianxiety activity of successive extracts of...   \n",
       "49534  flesinoxan challenge suggests that chronic tre...   \n",
       "3345            diabetes on twitter a sentiment analysis   \n",
       "...                                                  ...   \n",
       "11284  the effects on synovial permeability and synov...   \n",
       "44732  characteristics of the mitotic cycle of cells ...   \n",
       "38158  initial learning curve for robotassisted parti...   \n",
       "860    action of fatty acids on the exocrine pancreat...   \n",
       "15795  detection of metallobetalactamase in pseudomon...   \n",
       "\n",
       "                                            abstractText  \\\n",
       "25858  laparoscopic cholecystectomy become standard c...   \n",
       "10784  report development atomic decomposition method...   \n",
       "24807  objective angelica archangelica linn widely us...   \n",
       "49534  proposed desensitization hta hydroxytryptamine...   \n",
       "3345   background contents published social media imp...   \n",
       "...                                                  ...   \n",
       "11284  mode action intraarticularly administered cort...   \n",
       "44732  authors studied growth peculiarities ascitic h...   \n",
       "38158  introduction objective study evaluate initial ...   \n",
       "860    existence delayed inhibition secretion protein...   \n",
       "15795  pseudomonas aeruginosa bacterium frequently is...   \n",
       "\n",
       "                                               meshMajor      pmid  \\\n",
       "25858  acute disease adolescent adult aged cholangiog...   8368442   \n",
       "10784  amyloid betapeptides models molecular molecula...  21787012   \n",
       "24807  angelica archangelica animals antianxiety agen...  23297567   \n",
       "49534  animals antidepressive agents secondgeneration...  18786747   \n",
       "3345   algorithms data accuracy diabetes mellitus emo...  30453762   \n",
       "...                                                  ...       ...   \n",
       "11284  adrenal cortex hormones cell membrane permeabi...   7097677   \n",
       "44732  animals cell cycle liver neoplasms experimenta...    708878   \n",
       "38158  adult aged aged  and over clinical competence ...  30689309   \n",
       "860    animals butyrates caprylates fatty acids gluco...    633115   \n",
       "15795  antibacterial agents brazil cross infection di...  19802477   \n",
       "\n",
       "                                                  meshid  \\\n",
       "25858  c m m m e e e e c c n n e e n n b m c e e n n ...   \n",
       "10784                          d d d e e g l g g g d d d   \n",
       "24807                b b d d d f b f f g d d b b g g i i   \n",
       "49534  b d e e e e g g a f g g g e g d d b b d d d d ...   \n",
       "3345     g l e e l n n c c f f n b l f f f f e e n n l l   \n",
       "...                                                  ...   \n",
       "11284                d g g b e e e e e e g g m c c a a a   \n",
       "44732                    b g c c c c e b b b e e e d d d   \n",
       "38158              m m m i n n b c c c c c f m e e j m n   \n",
       "860                        b d d d d d d d g a a d b g d   \n",
       "15795                  d z c c e e g g g g b g e c b b d   \n",
       "\n",
       "                                                meshroot  \n",
       "25858  diseases c named groups m analytical diagnosti...  \n",
       "10784  chemicals and drugs d analytical diagnostic an...  \n",
       "24807  organisms b chemicals and drugs d psychiatry a...  \n",
       "49534  organisms b chemicals and drugs d analytical d...  \n",
       "3345   phenomena and processes g information science ...  \n",
       "...                                                  ...  \n",
       "11284  chemicals and drugs d phenomena and processes ...  \n",
       "44732  organisms b phenomena and processes g diseases...  \n",
       "38158  named groups m anthropology education sociolog...  \n",
       "860    organisms b chemicals and drugs d phenomena an...  \n",
       "15795  chemicals and drugs d geographicals z diseases...  \n",
       "\n",
       "[25000 rows x 6 columns]"
      ]
     },
     "execution_count": 9,
     "metadata": {},
     "output_type": "execute_result"
    }
   ],
   "source": [
    "X_train"
   ]
  },
  {
   "cell_type": "code",
   "execution_count": 9,
   "metadata": {},
   "outputs": [
    {
     "name": "stdout",
     "output_type": "stream",
     "text": [
      "Les textes ont été vectorisés en 2000 features.\n",
      "X_train : 25000 lignes, 2000 colonnes (features)\n",
      "X_test : 25000 lignes, 2000 colonnes (features)\n"
     ]
    }
   ],
   "source": [
    "X_train_vec, X_test_vec = taa.tfidf_vectorize(X_train['abstractText'], X_test['abstractText'], max_features=2000)"
   ]
  },
  {
   "cell_type": "markdown",
   "metadata": {},
   "source": [
    "30min pour run le ClassifierChain"
   ]
  },
  {
   "cell_type": "code",
   "execution_count": 10,
   "metadata": {},
   "outputs": [
    {
     "name": "stdout",
     "output_type": "stream",
     "text": [
      "Running MultiOutputClassifier...\n",
      "Evaluating MultiOutputClassifier...\n",
      "Classification Report:\n",
      "              precision    recall  f1-score   support\n",
      "\n",
      "           0       0.80      0.73      0.76     11641\n",
      "           1       0.95      0.99      0.97     23274\n",
      "           2       0.86      0.83      0.84     13179\n",
      "           3       0.90      0.89      0.89     15486\n",
      "           4       0.81      0.96      0.88     19629\n",
      "           5       0.84      0.58      0.69      4437\n",
      "           6       0.82      0.88      0.85     16802\n",
      "           7       0.57      0.09      0.15      3048\n",
      "           8       0.72      0.40      0.51      2839\n",
      "           9       0.72      0.23      0.34      2723\n",
      "          10       0.73      0.32      0.45      3729\n",
      "          11       0.86      0.86      0.86     10623\n",
      "          12       0.81      0.75      0.78     11447\n",
      "          13       0.73      0.50      0.60      4024\n",
      "\n",
      "   micro avg       0.85      0.81      0.83    142881\n",
      "   macro avg       0.79      0.64      0.68    142881\n",
      "weighted avg       0.84      0.81      0.81    142881\n",
      " samples avg       0.85      0.82      0.82    142881\n",
      "\n",
      "\n",
      "Running ClassifierChain...\n",
      "Evaluating ClassifierChain...\n",
      "Classification Report:\n",
      "              precision    recall  f1-score   support\n",
      "\n",
      "           0       0.68      0.71      0.70     11641\n",
      "           1       0.94      0.99      0.96     23274\n",
      "           2       0.77      0.77      0.77     13179\n",
      "           3       0.83      0.85      0.84     15486\n",
      "           4       0.81      0.92      0.86     19629\n",
      "           5       0.71      0.49      0.58      4437\n",
      "           6       0.79      0.86      0.82     16802\n",
      "           7       0.48      0.10      0.16      3048\n",
      "           8       0.60      0.38      0.46      2839\n",
      "           9       0.58      0.17      0.26      2723\n",
      "          10       0.56      0.25      0.35      3729\n",
      "          11       0.76      0.81      0.78     10623\n",
      "          12       0.71      0.71      0.71     11447\n",
      "          13       0.56      0.45      0.50      4024\n",
      "\n",
      "   micro avg       0.79      0.77      0.78    142881\n",
      "   macro avg       0.70      0.60      0.62    142881\n",
      "weighted avg       0.77      0.77      0.76    142881\n",
      " samples avg       0.79      0.78      0.77    142881\n",
      "\n",
      "\n",
      "Results Summary:\n",
      "MultiOutputClassifier Metrics: {'micro-F1': 0.8282540933682061, 'macro-F1': 0.6836620901639565, 'zero-one-loss': 0.86224}\n",
      "ClassifierChain Metrics: {'micro-F1': 0.7800861548030066, 'macro-F1': 0.6245708592773794, 'zero-one-loss': 0.91156}\n"
     ]
    }
   ],
   "source": [
    "results = taa.run_models(X_train_vec, X_test_vec, y_train, y_test)"
   ]
  }
 ],
 "metadata": {
  "kernelspec": {
   "display_name": "taa_tp1",
   "language": "python",
   "name": "python3"
  },
  "language_info": {
   "codemirror_mode": {
    "name": "ipython",
    "version": 3
   },
   "file_extension": ".py",
   "mimetype": "text/x-python",
   "name": "python",
   "nbconvert_exporter": "python",
   "pygments_lexer": "ipython3",
   "version": "3.13.1"
  }
 },
 "nbformat": 4,
 "nbformat_minor": 2
}
